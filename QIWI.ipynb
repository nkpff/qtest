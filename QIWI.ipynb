{
 "cells": [
  {
   "cell_type": "markdown",
   "metadata": {},
   "source": [
    "### Задание №1 [SQL тест](#sql)\n",
    "\n",
    "    \n",
    "### Задание №2 [Анализ эквайринга](#analytics)"
   ]
  },
  {
   "cell_type": "markdown",
   "metadata": {},
   "source": [
    "<a name=\"sql\"></a>\n",
    "## I. SQL тест"
   ]
  },
  {
   "cell_type": "markdown",
   "metadata": {},
   "source": [
    "Для выполнения взят диалект SQLite для простоты работы в юпитере, т.к. не нужен коннект к базе данных с сервера.<br>\n",
    "Настроим окружение:"
   ]
  },
  {
   "cell_type": "code",
   "execution_count": 1,
   "metadata": {},
   "outputs": [],
   "source": [
    "%%capture\n",
    "%load_ext sql"
   ]
  },
  {
   "cell_type": "code",
   "execution_count": 2,
   "metadata": {},
   "outputs": [
    {
     "data": {
      "text/plain": [
       "'Connected: @None'"
      ]
     },
     "execution_count": 2,
     "metadata": {},
     "output_type": "execute_result"
    }
   ],
   "source": [
    "%sql sqlite://"
   ]
  },
  {
   "cell_type": "code",
   "execution_count": 3,
   "metadata": {},
   "outputs": [
    {
     "name": "stdout",
     "output_type": "stream",
     "text": [
      " * sqlite://\n",
      "Done.\n"
     ]
    },
    {
     "data": {
      "text/plain": [
       "[]"
      ]
     },
     "execution_count": 3,
     "metadata": {},
     "output_type": "execute_result"
    }
   ],
   "source": [
    "%%sql\n",
    "CREATE TABLE transactions (\n",
    "    ID INTEGER PRIMARY KEY,\n",
    "    D_DATE TEXT,\n",
    "    CHN_ID INTEGER,\n",
    "    AMOUNT INTEGER,\n",
    "    MERCH TEXT,\n",
    "    CITY TEXT,\n",
    "    FOREIGN KEY (ID) REFERENCES transactions_sucsessfull(ID),\n",
    "    FOREIGN KEY (MERCH) REFERENCES merch_tariff(MERCH));"
   ]
  },
  {
   "cell_type": "code",
   "execution_count": 4,
   "metadata": {},
   "outputs": [
    {
     "name": "stdout",
     "output_type": "stream",
     "text": [
      " * sqlite://\n",
      "1 rows affected.\n",
      "1 rows affected.\n",
      "1 rows affected.\n",
      "1 rows affected.\n",
      "1 rows affected.\n",
      "1 rows affected.\n",
      "1 rows affected.\n",
      "1 rows affected.\n"
     ]
    },
    {
     "data": {
      "text/plain": [
       "[]"
      ]
     },
     "execution_count": 4,
     "metadata": {},
     "output_type": "execute_result"
    }
   ],
   "source": [
    "%%sql\n",
    "INSERT INTO transactions VALUES(101, '01.12.2019', 1, 100, 'Merch1', 'Moscow');\n",
    "INSERT INTO transactions VALUES(102, '04.11.2019', 2, 500, 'Merch2', 'MOSCOW');\n",
    "INSERT INTO transactions VALUES(103, '12.12.2019', 4, 700, 'Merch1', 'Samara');\n",
    "INSERT INTO transactions VALUES(104, '01.12.2019', 3, 200, 'Merch3', 'Moscow');\n",
    "INSERT INTO transactions VALUES(105, '18.12.2019', 3, 300, 'Merch3', 'SamAra');\n",
    "INSERT INTO transactions VALUES(106, '20.12.2019', 4, 500, 'Merch2', 'Volgograd');\n",
    "INSERT INTO transactions VALUES(107, '04.12.2019', 4, 400, 'Merch4', 'Moscow');\n",
    "INSERT INTO transactions VALUES(108, '07.12.2019', 4, 400, 'Merch5', 'MoScow');"
   ]
  },
  {
   "cell_type": "code",
   "execution_count": 5,
   "metadata": {},
   "outputs": [
    {
     "name": "stdout",
     "output_type": "stream",
     "text": [
      " * sqlite://\n",
      "Done.\n"
     ]
    },
    {
     "data": {
      "text/html": [
       "<table>\n",
       "    <tr>\n",
       "        <th>ID</th>\n",
       "        <th>D_DATE</th>\n",
       "        <th>CHN_ID</th>\n",
       "        <th>AMOUNT</th>\n",
       "        <th>MERCH</th>\n",
       "        <th>CITY</th>\n",
       "    </tr>\n",
       "    <tr>\n",
       "        <td>101</td>\n",
       "        <td>01.12.2019</td>\n",
       "        <td>1</td>\n",
       "        <td>100</td>\n",
       "        <td>Merch1</td>\n",
       "        <td>Moscow</td>\n",
       "    </tr>\n",
       "    <tr>\n",
       "        <td>102</td>\n",
       "        <td>04.11.2019</td>\n",
       "        <td>2</td>\n",
       "        <td>500</td>\n",
       "        <td>Merch2</td>\n",
       "        <td>MOSCOW</td>\n",
       "    </tr>\n",
       "    <tr>\n",
       "        <td>103</td>\n",
       "        <td>12.12.2019</td>\n",
       "        <td>4</td>\n",
       "        <td>700</td>\n",
       "        <td>Merch1</td>\n",
       "        <td>Samara</td>\n",
       "    </tr>\n",
       "    <tr>\n",
       "        <td>104</td>\n",
       "        <td>01.12.2019</td>\n",
       "        <td>3</td>\n",
       "        <td>200</td>\n",
       "        <td>Merch3</td>\n",
       "        <td>Moscow</td>\n",
       "    </tr>\n",
       "    <tr>\n",
       "        <td>105</td>\n",
       "        <td>18.12.2019</td>\n",
       "        <td>3</td>\n",
       "        <td>300</td>\n",
       "        <td>Merch3</td>\n",
       "        <td>SamAra</td>\n",
       "    </tr>\n",
       "    <tr>\n",
       "        <td>106</td>\n",
       "        <td>20.12.2019</td>\n",
       "        <td>4</td>\n",
       "        <td>500</td>\n",
       "        <td>Merch2</td>\n",
       "        <td>Volgograd</td>\n",
       "    </tr>\n",
       "    <tr>\n",
       "        <td>107</td>\n",
       "        <td>04.12.2019</td>\n",
       "        <td>4</td>\n",
       "        <td>400</td>\n",
       "        <td>Merch4</td>\n",
       "        <td>Moscow</td>\n",
       "    </tr>\n",
       "    <tr>\n",
       "        <td>108</td>\n",
       "        <td>07.12.2019</td>\n",
       "        <td>4</td>\n",
       "        <td>400</td>\n",
       "        <td>Merch5</td>\n",
       "        <td>MoScow</td>\n",
       "    </tr>\n",
       "</table>"
      ],
      "text/plain": [
       "[(101, '01.12.2019', 1, 100, 'Merch1', 'Moscow'),\n",
       " (102, '04.11.2019', 2, 500, 'Merch2', 'MOSCOW'),\n",
       " (103, '12.12.2019', 4, 700, 'Merch1', 'Samara'),\n",
       " (104, '01.12.2019', 3, 200, 'Merch3', 'Moscow'),\n",
       " (105, '18.12.2019', 3, 300, 'Merch3', 'SamAra'),\n",
       " (106, '20.12.2019', 4, 500, 'Merch2', 'Volgograd'),\n",
       " (107, '04.12.2019', 4, 400, 'Merch4', 'Moscow'),\n",
       " (108, '07.12.2019', 4, 400, 'Merch5', 'MoScow')]"
      ]
     },
     "execution_count": 5,
     "metadata": {},
     "output_type": "execute_result"
    }
   ],
   "source": [
    "%%sql\n",
    "SELECT * FROM transactions;"
   ]
  },
  {
   "cell_type": "code",
   "execution_count": 6,
   "metadata": {},
   "outputs": [
    {
     "name": "stdout",
     "output_type": "stream",
     "text": [
      " * sqlite://\n",
      "Done.\n"
     ]
    },
    {
     "data": {
      "text/plain": [
       "[]"
      ]
     },
     "execution_count": 6,
     "metadata": {},
     "output_type": "execute_result"
    }
   ],
   "source": [
    "%%sql\n",
    "CREATE TABLE transactions_sucsessfull (\n",
    "    ID INTEGER PRIMARY KEY,\n",
    "    PRODUCT TEXT,\n",
    "    FOREIGN KEY (ID) REFERENCES transactions(ID));"
   ]
  },
  {
   "cell_type": "code",
   "execution_count": 7,
   "metadata": {},
   "outputs": [
    {
     "name": "stdout",
     "output_type": "stream",
     "text": [
      " * sqlite://\n",
      "1 rows affected.\n",
      "1 rows affected.\n",
      "1 rows affected.\n",
      "1 rows affected.\n",
      "1 rows affected.\n",
      "1 rows affected.\n",
      "1 rows affected.\n",
      "1 rows affected.\n"
     ]
    },
    {
     "data": {
      "text/plain": [
       "[]"
      ]
     },
     "execution_count": 7,
     "metadata": {},
     "output_type": "execute_result"
    }
   ],
   "source": [
    "%%sql\n",
    "INSERT INTO transactions_sucsessfull VALUES(101, 'aso');\n",
    "INSERT INTO transactions_sucsessfull VALUES(102, 'pos');\n",
    "INSERT INTO transactions_sucsessfull VALUES(103, 'aso');\n",
    "INSERT INTO transactions_sucsessfull VALUES(104, 'pos');\n",
    "INSERT INTO transactions_sucsessfull VALUES(105, 'aso');\n",
    "INSERT INTO transactions_sucsessfull VALUES(110, 'aso');\n",
    "INSERT INTO transactions_sucsessfull VALUES(112, 'pos');\n",
    "INSERT INTO transactions_sucsessfull VALUES(108, 'aso');"
   ]
  },
  {
   "cell_type": "code",
   "execution_count": 8,
   "metadata": {},
   "outputs": [
    {
     "name": "stdout",
     "output_type": "stream",
     "text": [
      " * sqlite://\n",
      "Done.\n"
     ]
    },
    {
     "data": {
      "text/html": [
       "<table>\n",
       "    <tr>\n",
       "        <th>ID</th>\n",
       "        <th>PRODUCT</th>\n",
       "    </tr>\n",
       "    <tr>\n",
       "        <td>101</td>\n",
       "        <td>aso</td>\n",
       "    </tr>\n",
       "    <tr>\n",
       "        <td>102</td>\n",
       "        <td>pos</td>\n",
       "    </tr>\n",
       "    <tr>\n",
       "        <td>103</td>\n",
       "        <td>aso</td>\n",
       "    </tr>\n",
       "    <tr>\n",
       "        <td>104</td>\n",
       "        <td>pos</td>\n",
       "    </tr>\n",
       "    <tr>\n",
       "        <td>105</td>\n",
       "        <td>aso</td>\n",
       "    </tr>\n",
       "    <tr>\n",
       "        <td>108</td>\n",
       "        <td>aso</td>\n",
       "    </tr>\n",
       "    <tr>\n",
       "        <td>110</td>\n",
       "        <td>aso</td>\n",
       "    </tr>\n",
       "    <tr>\n",
       "        <td>112</td>\n",
       "        <td>pos</td>\n",
       "    </tr>\n",
       "</table>"
      ],
      "text/plain": [
       "[(101, 'aso'),\n",
       " (102, 'pos'),\n",
       " (103, 'aso'),\n",
       " (104, 'pos'),\n",
       " (105, 'aso'),\n",
       " (108, 'aso'),\n",
       " (110, 'aso'),\n",
       " (112, 'pos')]"
      ]
     },
     "execution_count": 8,
     "metadata": {},
     "output_type": "execute_result"
    }
   ],
   "source": [
    "%%sql\n",
    "SELECT * FROM transactions_sucsessfull;"
   ]
  },
  {
   "cell_type": "code",
   "execution_count": 9,
   "metadata": {},
   "outputs": [
    {
     "name": "stdout",
     "output_type": "stream",
     "text": [
      " * sqlite://\n",
      "Done.\n"
     ]
    },
    {
     "data": {
      "text/plain": [
       "[]"
      ]
     },
     "execution_count": 9,
     "metadata": {},
     "output_type": "execute_result"
    }
   ],
   "source": [
    "%%sql\n",
    "CREATE TABLE merch_tariff (\n",
    "    MERCH TEXT,\n",
    "    CHN_ID INTEGER,\n",
    "    TARIFF TEXT,\n",
    "    FOREIGN KEY (MERCH) REFERENCES transactions(MERCH));"
   ]
  },
  {
   "cell_type": "code",
   "execution_count": 10,
   "metadata": {},
   "outputs": [
    {
     "name": "stdout",
     "output_type": "stream",
     "text": [
      " * sqlite://\n",
      "1 rows affected.\n",
      "1 rows affected.\n",
      "1 rows affected.\n",
      "1 rows affected.\n",
      "1 rows affected.\n"
     ]
    },
    {
     "data": {
      "text/plain": [
       "[]"
      ]
     },
     "execution_count": 10,
     "metadata": {},
     "output_type": "execute_result"
    }
   ],
   "source": [
    "%%sql\n",
    "INSERT INTO merch_tariff VALUES('Merch1', 1, '1,2 мин. 20 руб.');\n",
    "INSERT INTO merch_tariff VALUES('Merch1', NULL, '1%');\n",
    "INSERT INTO merch_tariff VALUES('Merch2', NULL, '2%');\n",
    "INSERT INTO merch_tariff VALUES('Merch3', 3, '1,4% мин. 12 руб.');\n",
    "INSERT INTO merch_tariff VALUES('Merch4', 4, '2% макс. 50 руб.');"
   ]
  },
  {
   "cell_type": "code",
   "execution_count": 11,
   "metadata": {},
   "outputs": [
    {
     "name": "stdout",
     "output_type": "stream",
     "text": [
      " * sqlite://\n",
      "Done.\n"
     ]
    },
    {
     "data": {
      "text/html": [
       "<table>\n",
       "    <tr>\n",
       "        <th>MERCH</th>\n",
       "        <th>CHN_ID</th>\n",
       "        <th>TARIFF</th>\n",
       "    </tr>\n",
       "    <tr>\n",
       "        <td>Merch1</td>\n",
       "        <td>1</td>\n",
       "        <td>1,2 мин. 20 руб.</td>\n",
       "    </tr>\n",
       "    <tr>\n",
       "        <td>Merch1</td>\n",
       "        <td>None</td>\n",
       "        <td>1%</td>\n",
       "    </tr>\n",
       "    <tr>\n",
       "        <td>Merch2</td>\n",
       "        <td>None</td>\n",
       "        <td>2%</td>\n",
       "    </tr>\n",
       "    <tr>\n",
       "        <td>Merch3</td>\n",
       "        <td>3</td>\n",
       "        <td>1,4% мин. 12 руб.</td>\n",
       "    </tr>\n",
       "    <tr>\n",
       "        <td>Merch4</td>\n",
       "        <td>4</td>\n",
       "        <td>2% макс. 50 руб.</td>\n",
       "    </tr>\n",
       "</table>"
      ],
      "text/plain": [
       "[('Merch1', 1, '1,2 мин. 20 руб.'),\n",
       " ('Merch1', None, '1%'),\n",
       " ('Merch2', None, '2%'),\n",
       " ('Merch3', 3, '1,4% мин. 12 руб.'),\n",
       " ('Merch4', 4, '2% макс. 50 руб.')]"
      ]
     },
     "execution_count": 11,
     "metadata": {},
     "output_type": "execute_result"
    }
   ],
   "source": [
    "%%sql\n",
    "SELECT * FROM merch_tariff;"
   ]
  },
  {
   "cell_type": "markdown",
   "metadata": {},
   "source": [
    "<a name=\"sql1\"></a>\n",
    "#### 1. Получить из таблицы Transaction всю информацию  только по успешныем операциям + PRODUCT  через каторый этот платеж прошел"
   ]
  },
  {
   "cell_type": "code",
   "execution_count": 12,
   "metadata": {},
   "outputs": [
    {
     "name": "stdout",
     "output_type": "stream",
     "text": [
      " * sqlite://\n",
      "Done.\n"
     ]
    },
    {
     "data": {
      "text/html": [
       "<table>\n",
       "    <tr>\n",
       "        <th>ID</th>\n",
       "        <th>D_DATE</th>\n",
       "        <th>CHN_ID</th>\n",
       "        <th>AMOUNT</th>\n",
       "        <th>MERCH</th>\n",
       "        <th>CITY</th>\n",
       "        <th>PRODUCT</th>\n",
       "    </tr>\n",
       "    <tr>\n",
       "        <td>101</td>\n",
       "        <td>01.12.2019</td>\n",
       "        <td>1</td>\n",
       "        <td>100</td>\n",
       "        <td>Merch1</td>\n",
       "        <td>Moscow</td>\n",
       "        <td>aso</td>\n",
       "    </tr>\n",
       "    <tr>\n",
       "        <td>102</td>\n",
       "        <td>04.11.2019</td>\n",
       "        <td>2</td>\n",
       "        <td>500</td>\n",
       "        <td>Merch2</td>\n",
       "        <td>MOSCOW</td>\n",
       "        <td>pos</td>\n",
       "    </tr>\n",
       "    <tr>\n",
       "        <td>103</td>\n",
       "        <td>12.12.2019</td>\n",
       "        <td>4</td>\n",
       "        <td>700</td>\n",
       "        <td>Merch1</td>\n",
       "        <td>Samara</td>\n",
       "        <td>aso</td>\n",
       "    </tr>\n",
       "    <tr>\n",
       "        <td>104</td>\n",
       "        <td>01.12.2019</td>\n",
       "        <td>3</td>\n",
       "        <td>200</td>\n",
       "        <td>Merch3</td>\n",
       "        <td>Moscow</td>\n",
       "        <td>pos</td>\n",
       "    </tr>\n",
       "    <tr>\n",
       "        <td>105</td>\n",
       "        <td>18.12.2019</td>\n",
       "        <td>3</td>\n",
       "        <td>300</td>\n",
       "        <td>Merch3</td>\n",
       "        <td>SamAra</td>\n",
       "        <td>aso</td>\n",
       "    </tr>\n",
       "    <tr>\n",
       "        <td>108</td>\n",
       "        <td>07.12.2019</td>\n",
       "        <td>4</td>\n",
       "        <td>400</td>\n",
       "        <td>Merch5</td>\n",
       "        <td>MoScow</td>\n",
       "        <td>aso</td>\n",
       "    </tr>\n",
       "</table>"
      ],
      "text/plain": [
       "[(101, '01.12.2019', 1, 100, 'Merch1', 'Moscow', 'aso'),\n",
       " (102, '04.11.2019', 2, 500, 'Merch2', 'MOSCOW', 'pos'),\n",
       " (103, '12.12.2019', 4, 700, 'Merch1', 'Samara', 'aso'),\n",
       " (104, '01.12.2019', 3, 200, 'Merch3', 'Moscow', 'pos'),\n",
       " (105, '18.12.2019', 3, 300, 'Merch3', 'SamAra', 'aso'),\n",
       " (108, '07.12.2019', 4, 400, 'Merch5', 'MoScow', 'aso')]"
      ]
     },
     "execution_count": 12,
     "metadata": {},
     "output_type": "execute_result"
    }
   ],
   "source": [
    "%%sql\n",
    "SELECT t.*, ts.PRODUCT FROM transactions t\n",
    "JOIN transactions_sucsessfull ts\n",
    "ON t.ID = ts.ID\n",
    "WHERE t.id in (SELECT ID FROM transactions_sucsessfull)\n",
    "ORDER BY 1;"
   ]
  },
  {
   "cell_type": "markdown",
   "metadata": {},
   "source": [
    "<a name=\"sql2\"></a>\n",
    "#### 2. Вывести только те транзакции, где city = Москва (в любом написании) и product = aso"
   ]
  },
  {
   "cell_type": "code",
   "execution_count": 13,
   "metadata": {},
   "outputs": [
    {
     "name": "stdout",
     "output_type": "stream",
     "text": [
      " * sqlite://\n",
      "Done.\n"
     ]
    },
    {
     "data": {
      "text/html": [
       "<table>\n",
       "    <tr>\n",
       "        <th>ID</th>\n",
       "        <th>D_DATE</th>\n",
       "        <th>CHN_ID</th>\n",
       "        <th>AMOUNT</th>\n",
       "        <th>MERCH</th>\n",
       "        <th>CITY</th>\n",
       "        <th>PRODUCT</th>\n",
       "    </tr>\n",
       "    <tr>\n",
       "        <td>101</td>\n",
       "        <td>01.12.2019</td>\n",
       "        <td>1</td>\n",
       "        <td>100</td>\n",
       "        <td>Merch1</td>\n",
       "        <td>Moscow</td>\n",
       "        <td>aso</td>\n",
       "    </tr>\n",
       "    <tr>\n",
       "        <td>108</td>\n",
       "        <td>07.12.2019</td>\n",
       "        <td>4</td>\n",
       "        <td>400</td>\n",
       "        <td>Merch5</td>\n",
       "        <td>MoScow</td>\n",
       "        <td>aso</td>\n",
       "    </tr>\n",
       "</table>"
      ],
      "text/plain": [
       "[(101, '01.12.2019', 1, 100, 'Merch1', 'Moscow', 'aso'),\n",
       " (108, '07.12.2019', 4, 400, 'Merch5', 'MoScow', 'aso')]"
      ]
     },
     "execution_count": 13,
     "metadata": {},
     "output_type": "execute_result"
    }
   ],
   "source": [
    "%%sql\n",
    "WITH work_table as (\n",
    "    SELECT t.*, ts.PRODUCT FROM transactions t\n",
    "    JOIN transactions_sucsessfull ts\n",
    "    ON t.ID = ts.ID\n",
    "    WHERE t.id in (SELECT ID FROM transactions_sucsessfull)\n",
    "    ORDER BY 1)\n",
    "SELECT * FROM work_table\n",
    "WHERE CITY LIKE '%moscow%'\n",
    "AND PRODUCT = 'aso';"
   ]
  },
  {
   "cell_type": "markdown",
   "metadata": {},
   "source": [
    "<a name=\"sql3\"></a>\n",
    "#### 3. Выгрузить по месяцам сумму платежей и  суммарное количество транзакций в разрезе мерчантов, у которых суммарное количество платежей от 2 и больше и отсортировать в порядке возрастания по сумме платежей"
   ]
  },
  {
   "cell_type": "code",
   "execution_count": 14,
   "metadata": {},
   "outputs": [
    {
     "name": "stdout",
     "output_type": "stream",
     "text": [
      " * sqlite://\n",
      "Done.\n"
     ]
    },
    {
     "data": {
      "text/html": [
       "<table>\n",
       "    <tr>\n",
       "        <th>month</th>\n",
       "        <th>merchant</th>\n",
       "        <th>transactions</th>\n",
       "        <th>total_sum</th>\n",
       "    </tr>\n",
       "    <tr>\n",
       "        <td>2019-12</td>\n",
       "        <td>Merch1</td>\n",
       "        <td>2</td>\n",
       "        <td>800</td>\n",
       "    </tr>\n",
       "    <tr>\n",
       "        <td>2019-12</td>\n",
       "        <td>Merch3</td>\n",
       "        <td>2</td>\n",
       "        <td>500</td>\n",
       "    </tr>\n",
       "</table>"
      ],
      "text/plain": [
       "[('2019-12', 'Merch1', 2, 800), ('2019-12', 'Merch3', 2, 500)]"
      ]
     },
     "execution_count": 14,
     "metadata": {},
     "output_type": "execute_result"
    }
   ],
   "source": [
    "%%sql\n",
    "WITH work_table as (\n",
    "    SELECT t.*, ts.PRODUCT FROM transactions t\n",
    "    JOIN transactions_sucsessfull ts\n",
    "    ON t.ID = ts.ID\n",
    "    WHERE t.id in (SELECT ID FROM transactions_sucsessfull)\n",
    "    ORDER BY 1)\n",
    "SELECT substr(D_DATE, 7, 4) || '-' || substr(D_DATE, 4, 2) month,\n",
    "MERCH merchant,\n",
    "COUNT(AMOUNT) transactions,\n",
    "SUM(AMOUNT) total_sum\n",
    "FROM work_table\n",
    "GROUP BY MERCH, month\n",
    "HAVING COUNT(AMOUNT) >= 2;"
   ]
  },
  {
   "cell_type": "markdown",
   "metadata": {},
   "source": [
    "<a name=\"sql4\"></a>\n",
    "#### 4. Задача: узнать, какой тариф применился к каждой транзакции. \n",
    "- Тарифы Мерчантов в таблице Merch_tariff.<br>\n",
    "- Тариф зависит от Мерчанта и chn_id.<br>\n",
    "- Если для комбинации MERCH и chn_id  в таблице тарифов нет ставки, значит применился тариф для комбинации MERCH и null"
   ]
  },
  {
   "cell_type": "code",
   "execution_count": 15,
   "metadata": {},
   "outputs": [
    {
     "name": "stdout",
     "output_type": "stream",
     "text": [
      " * sqlite://\n",
      "Done.\n"
     ]
    },
    {
     "data": {
      "text/html": [
       "<table>\n",
       "    <tr>\n",
       "        <th>ID</th>\n",
       "        <th>D_DATE</th>\n",
       "        <th>CHN_ID</th>\n",
       "        <th>AMOUNT</th>\n",
       "        <th>MERCH</th>\n",
       "        <th>CITY</th>\n",
       "        <th>PRODUCT</th>\n",
       "        <th>TARIFF</th>\n",
       "    </tr>\n",
       "    <tr>\n",
       "        <td>101</td>\n",
       "        <td>01.12.2019</td>\n",
       "        <td>1</td>\n",
       "        <td>100</td>\n",
       "        <td>Merch1</td>\n",
       "        <td>Moscow</td>\n",
       "        <td>aso</td>\n",
       "        <td>1,2 мин. 20 руб.</td>\n",
       "    </tr>\n",
       "    <tr>\n",
       "        <td>102</td>\n",
       "        <td>04.11.2019</td>\n",
       "        <td>2</td>\n",
       "        <td>500</td>\n",
       "        <td>Merch2</td>\n",
       "        <td>MOSCOW</td>\n",
       "        <td>pos</td>\n",
       "        <td>None</td>\n",
       "    </tr>\n",
       "    <tr>\n",
       "        <td>103</td>\n",
       "        <td>12.12.2019</td>\n",
       "        <td>4</td>\n",
       "        <td>700</td>\n",
       "        <td>Merch1</td>\n",
       "        <td>Samara</td>\n",
       "        <td>aso</td>\n",
       "        <td>None</td>\n",
       "    </tr>\n",
       "    <tr>\n",
       "        <td>104</td>\n",
       "        <td>01.12.2019</td>\n",
       "        <td>3</td>\n",
       "        <td>200</td>\n",
       "        <td>Merch3</td>\n",
       "        <td>Moscow</td>\n",
       "        <td>pos</td>\n",
       "        <td>1,4% мин. 12 руб.</td>\n",
       "    </tr>\n",
       "    <tr>\n",
       "        <td>105</td>\n",
       "        <td>18.12.2019</td>\n",
       "        <td>3</td>\n",
       "        <td>300</td>\n",
       "        <td>Merch3</td>\n",
       "        <td>SamAra</td>\n",
       "        <td>aso</td>\n",
       "        <td>1,4% мин. 12 руб.</td>\n",
       "    </tr>\n",
       "    <tr>\n",
       "        <td>108</td>\n",
       "        <td>07.12.2019</td>\n",
       "        <td>4</td>\n",
       "        <td>400</td>\n",
       "        <td>Merch5</td>\n",
       "        <td>MoScow</td>\n",
       "        <td>aso</td>\n",
       "        <td>None</td>\n",
       "    </tr>\n",
       "</table>"
      ],
      "text/plain": [
       "[(101, '01.12.2019', 1, 100, 'Merch1', 'Moscow', 'aso', '1,2 мин. 20 руб.'),\n",
       " (102, '04.11.2019', 2, 500, 'Merch2', 'MOSCOW', 'pos', None),\n",
       " (103, '12.12.2019', 4, 700, 'Merch1', 'Samara', 'aso', None),\n",
       " (104, '01.12.2019', 3, 200, 'Merch3', 'Moscow', 'pos', '1,4% мин. 12 руб.'),\n",
       " (105, '18.12.2019', 3, 300, 'Merch3', 'SamAra', 'aso', '1,4% мин. 12 руб.'),\n",
       " (108, '07.12.2019', 4, 400, 'Merch5', 'MoScow', 'aso', None)]"
      ]
     },
     "execution_count": 15,
     "metadata": {},
     "output_type": "execute_result"
    }
   ],
   "source": [
    "%%sql\n",
    "WITH work_table as (\n",
    "    SELECT t.*, ts.PRODUCT FROM transactions t\n",
    "    JOIN transactions_sucsessfull ts\n",
    "    ON t.ID = ts.ID\n",
    "    WHERE t.id in (SELECT ID FROM transactions_sucsessfull)\n",
    "    ORDER BY 1)\n",
    "SELECT wt.*,mt.TARIFF\n",
    "FROM work_table wt\n",
    "LEFT JOIN merch_tariff mt\n",
    "ON mt.CHN_ID = wt.CHN_ID\n",
    "and mt.MERCH = wt.MERCH;"
   ]
  },
  {
   "cell_type": "markdown",
   "metadata": {},
   "source": [
    "<a name=\"sql5\"></a>\n",
    "#### 5. Вывести всю информацию(все поля)по каждой транзакции из таблицы Transactions и добавить 3 дополниетельных поля в которых будут посчитаны: \n",
    "1. Количество всех транзакций в таблице Transactions <br>\n",
    "2. Сумма всех платежей в городе в котором прошла данная транзакция <br>\n",
    "3. Долю транзакции от суммы всех платежей в аналогичном городе"
   ]
  },
  {
   "cell_type": "code",
   "execution_count": 16,
   "metadata": {
    "scrolled": true
   },
   "outputs": [
    {
     "name": "stdout",
     "output_type": "stream",
     "text": [
      " * sqlite://\n",
      "Done.\n"
     ]
    },
    {
     "data": {
      "text/html": [
       "<table>\n",
       "    <tr>\n",
       "        <th>ID</th>\n",
       "        <th>D_DATE</th>\n",
       "        <th>CHN_ID</th>\n",
       "        <th>AMOUNT</th>\n",
       "        <th>MERCH</th>\n",
       "        <th>CITY</th>\n",
       "        <th>PRODUCT</th>\n",
       "        <th>TOTAL_TRANSACTIONS</th>\n",
       "        <th>TOTAL_AMOUNT_PER_CITY</th>\n",
       "        <th>TRANSACTION_SHARE</th>\n",
       "    </tr>\n",
       "    <tr>\n",
       "        <td>101</td>\n",
       "        <td>01.12.2019</td>\n",
       "        <td>1</td>\n",
       "        <td>100</td>\n",
       "        <td>Merch1</td>\n",
       "        <td>Moscow</td>\n",
       "        <td>aso</td>\n",
       "        <td>8</td>\n",
       "        <td>1200</td>\n",
       "        <td>8.0%</td>\n",
       "    </tr>\n",
       "    <tr>\n",
       "        <td>102</td>\n",
       "        <td>04.11.2019</td>\n",
       "        <td>2</td>\n",
       "        <td>500</td>\n",
       "        <td>Merch2</td>\n",
       "        <td>MOSCOW</td>\n",
       "        <td>pos</td>\n",
       "        <td>8</td>\n",
       "        <td>1200</td>\n",
       "        <td>42.0%</td>\n",
       "    </tr>\n",
       "    <tr>\n",
       "        <td>104</td>\n",
       "        <td>01.12.2019</td>\n",
       "        <td>3</td>\n",
       "        <td>200</td>\n",
       "        <td>Merch3</td>\n",
       "        <td>Moscow</td>\n",
       "        <td>pos</td>\n",
       "        <td>8</td>\n",
       "        <td>1200</td>\n",
       "        <td>17.0%</td>\n",
       "    </tr>\n",
       "    <tr>\n",
       "        <td>108</td>\n",
       "        <td>07.12.2019</td>\n",
       "        <td>4</td>\n",
       "        <td>400</td>\n",
       "        <td>Merch5</td>\n",
       "        <td>MoScow</td>\n",
       "        <td>aso</td>\n",
       "        <td>8</td>\n",
       "        <td>1200</td>\n",
       "        <td>33.0%</td>\n",
       "    </tr>\n",
       "    <tr>\n",
       "        <td>103</td>\n",
       "        <td>12.12.2019</td>\n",
       "        <td>4</td>\n",
       "        <td>700</td>\n",
       "        <td>Merch1</td>\n",
       "        <td>Samara</td>\n",
       "        <td>aso</td>\n",
       "        <td>8</td>\n",
       "        <td>1000</td>\n",
       "        <td>70.0%</td>\n",
       "    </tr>\n",
       "    <tr>\n",
       "        <td>105</td>\n",
       "        <td>18.12.2019</td>\n",
       "        <td>3</td>\n",
       "        <td>300</td>\n",
       "        <td>Merch3</td>\n",
       "        <td>SamAra</td>\n",
       "        <td>aso</td>\n",
       "        <td>8</td>\n",
       "        <td>1000</td>\n",
       "        <td>30.0%</td>\n",
       "    </tr>\n",
       "</table>"
      ],
      "text/plain": [
       "[(101, '01.12.2019', 1, 100, 'Merch1', 'Moscow', 'aso', 8, 1200, '8.0%'),\n",
       " (102, '04.11.2019', 2, 500, 'Merch2', 'MOSCOW', 'pos', 8, 1200, '42.0%'),\n",
       " (104, '01.12.2019', 3, 200, 'Merch3', 'Moscow', 'pos', 8, 1200, '17.0%'),\n",
       " (108, '07.12.2019', 4, 400, 'Merch5', 'MoScow', 'aso', 8, 1200, '33.0%'),\n",
       " (103, '12.12.2019', 4, 700, 'Merch1', 'Samara', 'aso', 8, 1000, '70.0%'),\n",
       " (105, '18.12.2019', 3, 300, 'Merch3', 'SamAra', 'aso', 8, 1000, '30.0%')]"
      ]
     },
     "execution_count": 16,
     "metadata": {},
     "output_type": "execute_result"
    }
   ],
   "source": [
    "%%sql\n",
    "WITH work_table as (\n",
    "    SELECT t.*, ts.PRODUCT FROM transactions t\n",
    "    JOIN transactions_sucsessfull ts\n",
    "    ON t.ID = ts.ID\n",
    "    WHERE t.id in (SELECT ID FROM transactions_sucsessfull)\n",
    "    ORDER BY 1)\n",
    "SELECT *,\n",
    "(SELECT COUNT(*) FROM transactions) TOTAL_TRANSACTIONS,\n",
    "SUM(AMOUNT) OVER (PARTITION BY LOWER(CITY)) as TOTAL_AMOUNT_PER_CITY,\n",
    "(100 * ROUND(AMOUNT/CAST(SUM(AMOUNT) OVER (PARTITION BY LOWER(CITY)) as float),2))||'%' as TRANSACTION_SHARE\n",
    "FROM work_table;"
   ]
  },
  {
   "cell_type": "markdown",
   "metadata": {},
   "source": [
    "<a name=\"sql6\"></a>\n",
    "#### 6. Одним запросом получить все транзакции, котоые есть в Transactions, но нет в Transaction_sucsessfull и наоборот есть в  Transaction_sucsessfull и нет в Transactions"
   ]
  },
  {
   "cell_type": "code",
   "execution_count": 17,
   "metadata": {},
   "outputs": [
    {
     "name": "stdout",
     "output_type": "stream",
     "text": [
      " * sqlite://\n",
      "(sqlite3.OperationalError) RIGHT and FULL OUTER JOINs are not currently supported\n",
      "[SQL: SELECT * FROM transactions t\n",
      "FULL OUTER JOIN transaction_sucsessfull ts\n",
      "ON t.ID = ts.ID;]\n",
      "(Background on this error at: http://sqlalche.me/e/13/e3q8)\n"
     ]
    }
   ],
   "source": [
    "%%sql\n",
    "SELECT * FROM transactions t\n",
    "FULL OUTER JOIN transaction_sucsessfull ts\n",
    "ON t.ID = ts.ID;"
   ]
  },
  {
   "cell_type": "markdown",
   "metadata": {},
   "source": [
    "В этом виртуальном сервере sql для юпитера нельзя проводить операции по некоторым join'ам, как видно из комментария ошибки, но скрипт рабочий))<br>\n",
    "Поэтому предлагаю такой вариант:"
   ]
  },
  {
   "cell_type": "code",
   "execution_count": 18,
   "metadata": {},
   "outputs": [
    {
     "name": "stdout",
     "output_type": "stream",
     "text": [
      " * sqlite://\n",
      "Done.\n"
     ]
    },
    {
     "data": {
      "text/html": [
       "<table>\n",
       "    <tr>\n",
       "        <th>transaction_id</th>\n",
       "    </tr>\n",
       "    <tr>\n",
       "        <td>106</td>\n",
       "    </tr>\n",
       "    <tr>\n",
       "        <td>107</td>\n",
       "    </tr>\n",
       "    <tr>\n",
       "        <td>110</td>\n",
       "    </tr>\n",
       "    <tr>\n",
       "        <td>112</td>\n",
       "    </tr>\n",
       "</table>"
      ],
      "text/plain": [
       "[(106,), (107,), (110,), (112,)]"
      ]
     },
     "execution_count": 18,
     "metadata": {},
     "output_type": "execute_result"
    }
   ],
   "source": [
    "%%sql\n",
    "SELECT ID transaction_id FROM transactions\n",
    "WHERE ID NOT IN (SELECT ID FROM transactions_sucsessfull)\n",
    "UNION\n",
    "SELECT ID transaction_id FROM transactions_sucsessfull\n",
    "WHERE ID NOT IN (SELECT ID FROM transactions);"
   ]
  },
  {
   "cell_type": "markdown",
   "metadata": {},
   "source": [
    "<a name=\"analytics\"></a>\n",
    "## II. Анализ эквайринга"
   ]
  },
  {
   "cell_type": "code",
   "execution_count": 19,
   "metadata": {},
   "outputs": [],
   "source": [
    "#Загрузим необходимые для работы библиотеки\n",
    "import pandas as pd\n",
    "import numpy as np\n",
    "import matplotlib.pyplot as plt\n",
    "import seaborn as sns\n",
    "sns.set_palette('Set2')\n",
    "sns.axes_style('darkgrid')\n",
    "%matplotlib inline"
   ]
  },
  {
   "cell_type": "code",
   "execution_count": 20,
   "metadata": {},
   "outputs": [
    {
     "data": {
      "text/plain": [
       "(1036261, 15)"
      ]
     },
     "execution_count": 20,
     "metadata": {},
     "output_type": "execute_result"
    }
   ],
   "source": [
    "#Прочитаем и сохраним датасет в 'data', узнаем его размер\n",
    "data = pd.read_excel('Тест Qiwi_аналитик.xlsx', sheet_name='Данные')\n",
    "data.shape"
   ]
  },
  {
   "cell_type": "markdown",
   "metadata": {},
   "source": [
    "##### Начнем занкомство с данными: сделаем реиндекс, узнаем тип данных столбцов, кол-во отсутствующих значений"
   ]
  },
  {
   "cell_type": "code",
   "execution_count": 21,
   "metadata": {
    "scrolled": true
   },
   "outputs": [
    {
     "data": {
      "text/html": [
       "<div>\n",
       "<style scoped>\n",
       "    .dataframe tbody tr th:only-of-type {\n",
       "        vertical-align: middle;\n",
       "    }\n",
       "\n",
       "    .dataframe tbody tr th {\n",
       "        vertical-align: top;\n",
       "    }\n",
       "\n",
       "    .dataframe thead th {\n",
       "        text-align: right;\n",
       "    }\n",
       "</style>\n",
       "<table border=\"1\" class=\"dataframe\">\n",
       "  <thead>\n",
       "    <tr style=\"text-align: right;\">\n",
       "      <th></th>\n",
       "      <th>Месяц</th>\n",
       "      <th>Статус транзакци</th>\n",
       "      <th>Мерчант</th>\n",
       "      <th>Категория мерчанта</th>\n",
       "      <th>Канал</th>\n",
       "      <th>МПС</th>\n",
       "      <th>Продукт карты</th>\n",
       "      <th>Признак карты</th>\n",
       "      <th>Страна карты</th>\n",
       "      <th>Банк rus</th>\n",
       "      <th>Bank eng</th>\n",
       "      <th>Оборот</th>\n",
       "      <th>Количество транзакций</th>\n",
       "      <th>Доход от мерчанта</th>\n",
       "      <th>Расход на МПС</th>\n",
       "    </tr>\n",
       "  </thead>\n",
       "  <tbody>\n",
       "    <tr>\n",
       "      <th>0</th>\n",
       "      <td>2019-01-01</td>\n",
       "      <td>65</td>\n",
       "      <td>Мерчант9</td>\n",
       "      <td>Категория1</td>\n",
       "      <td>1105</td>\n",
       "      <td>MasterCard</td>\n",
       "      <td>Debit</td>\n",
       "      <td>0.0</td>\n",
       "      <td>643.0</td>\n",
       "      <td>Альфа-банк</td>\n",
       "      <td>JOINT STOCK COMPANY ALFA-BANK</td>\n",
       "      <td>38.382353</td>\n",
       "      <td>1.000000</td>\n",
       "      <td>0.920354</td>\n",
       "      <td>-1.053097</td>\n",
       "    </tr>\n",
       "    <tr>\n",
       "      <th>1</th>\n",
       "      <td>2019-01-01</td>\n",
       "      <td>65</td>\n",
       "      <td>Мерчант8</td>\n",
       "      <td>Категория1</td>\n",
       "      <td>1100</td>\n",
       "      <td>VISA</td>\n",
       "      <td>Debit</td>\n",
       "      <td>0.0</td>\n",
       "      <td>643.0</td>\n",
       "      <td>NaN</td>\n",
       "      <td>PUBLIC JOINT-STOCK COMPANY BANK OTKRITIE FINAN...</td>\n",
       "      <td>50.000000</td>\n",
       "      <td>11.764706</td>\n",
       "      <td>1.203540</td>\n",
       "      <td>-1.353982</td>\n",
       "    </tr>\n",
       "    <tr>\n",
       "      <th>2</th>\n",
       "      <td>2019-01-01</td>\n",
       "      <td>65</td>\n",
       "      <td>Мерчант8</td>\n",
       "      <td>Категория1</td>\n",
       "      <td>1100</td>\n",
       "      <td>VISA</td>\n",
       "      <td>Debit</td>\n",
       "      <td>0.0</td>\n",
       "      <td>643.0</td>\n",
       "      <td>Сбербанк России</td>\n",
       "      <td>SBERBANK OF RUSSIA</td>\n",
       "      <td>4.705882</td>\n",
       "      <td>11.764706</td>\n",
       "      <td>0.115044</td>\n",
       "      <td>-0.123894</td>\n",
       "    </tr>\n",
       "    <tr>\n",
       "      <th>3</th>\n",
       "      <td>2019-01-01</td>\n",
       "      <td>65</td>\n",
       "      <td>Мерчант13</td>\n",
       "      <td>Категория1</td>\n",
       "      <td>1230</td>\n",
       "      <td>VISA</td>\n",
       "      <td>Credit</td>\n",
       "      <td>0.0</td>\n",
       "      <td>643.0</td>\n",
       "      <td>NaN</td>\n",
       "      <td>VTB BANK PJSC</td>\n",
       "      <td>83.864706</td>\n",
       "      <td>23.529412</td>\n",
       "      <td>0.884956</td>\n",
       "      <td>-0.061947</td>\n",
       "    </tr>\n",
       "    <tr>\n",
       "      <th>4</th>\n",
       "      <td>2019-01-01</td>\n",
       "      <td>65</td>\n",
       "      <td>Мерчант8</td>\n",
       "      <td>Категория1</td>\n",
       "      <td>1368</td>\n",
       "      <td>MasterCard</td>\n",
       "      <td>Debit</td>\n",
       "      <td>0.0</td>\n",
       "      <td>643.0</td>\n",
       "      <td>Сбербанк России</td>\n",
       "      <td>SBERBANK OF RUSSIA</td>\n",
       "      <td>23.823529</td>\n",
       "      <td>17.647059</td>\n",
       "      <td>0.575221</td>\n",
       "      <td>-0.575221</td>\n",
       "    </tr>\n",
       "  </tbody>\n",
       "</table>\n",
       "</div>"
      ],
      "text/plain": [
       "       Месяц  Статус транзакци    Мерчант Категория мерчанта  Канал  \\\n",
       "0 2019-01-01                65   Мерчант9         Категория1   1105   \n",
       "1 2019-01-01                65   Мерчант8         Категория1   1100   \n",
       "2 2019-01-01                65   Мерчант8         Категория1   1100   \n",
       "3 2019-01-01                65  Мерчант13         Категория1   1230   \n",
       "4 2019-01-01                65   Мерчант8         Категория1   1368   \n",
       "\n",
       "          МПС Продукт карты  Признак карты  Страна карты         Банк rus  \\\n",
       "0  MasterCard         Debit            0.0         643.0       Альфа-банк   \n",
       "1        VISA         Debit            0.0         643.0              NaN   \n",
       "2        VISA         Debit            0.0         643.0  Сбербанк России   \n",
       "3        VISA        Credit            0.0         643.0              NaN   \n",
       "4  MasterCard         Debit            0.0         643.0  Сбербанк России   \n",
       "\n",
       "                                            Bank eng     Оборот  \\\n",
       "0                      JOINT STOCK COMPANY ALFA-BANK  38.382353   \n",
       "1  PUBLIC JOINT-STOCK COMPANY BANK OTKRITIE FINAN...  50.000000   \n",
       "2                                 SBERBANK OF RUSSIA   4.705882   \n",
       "3                                      VTB BANK PJSC  83.864706   \n",
       "4                                 SBERBANK OF RUSSIA  23.823529   \n",
       "\n",
       "   Количество транзакций  Доход от мерчанта  Расход на МПС  \n",
       "0               1.000000           0.920354      -1.053097  \n",
       "1              11.764706           1.203540      -1.353982  \n",
       "2              11.764706           0.115044      -0.123894  \n",
       "3              23.529412           0.884956      -0.061947  \n",
       "4              17.647059           0.575221      -0.575221  "
      ]
     },
     "execution_count": 21,
     "metadata": {},
     "output_type": "execute_result"
    }
   ],
   "source": [
    "data.head()"
   ]
  },
  {
   "cell_type": "code",
   "execution_count": 22,
   "metadata": {},
   "outputs": [],
   "source": [
    "data.index = np.arange(1, len(data)+1)"
   ]
  },
  {
   "cell_type": "code",
   "execution_count": 23,
   "metadata": {},
   "outputs": [
    {
     "name": "stdout",
     "output_type": "stream",
     "text": [
      "<class 'pandas.core.frame.DataFrame'>\n",
      "Int64Index: 1036261 entries, 1 to 1036261\n",
      "Data columns (total 15 columns):\n",
      " #   Column                 Non-Null Count    Dtype         \n",
      "---  ------                 --------------    -----         \n",
      " 0   Месяц                  1036261 non-null  datetime64[ns]\n",
      " 1   Статус транзакци       1036261 non-null  int64         \n",
      " 2   Мерчант                1036261 non-null  object        \n",
      " 3   Категория мерчанта     1036261 non-null  object        \n",
      " 4   Канал                  1036261 non-null  int64         \n",
      " 5   МПС                    1036261 non-null  object        \n",
      " 6   Продукт карты          1004071 non-null  object        \n",
      " 7   Признак карты          1035385 non-null  float64       \n",
      " 8   Страна карты           1035986 non-null  float64       \n",
      " 9   Банк rus               975297 non-null   object        \n",
      " 10  Bank eng               494809 non-null   object        \n",
      " 11  Оборот                 1035384 non-null  float64       \n",
      " 12  Количество транзакций  1036261 non-null  float64       \n",
      " 13  Доход от мерчанта      1035385 non-null  float64       \n",
      " 14  Расход на МПС          1035385 non-null  float64       \n",
      "dtypes: datetime64[ns](1), float64(6), int64(2), object(6)\n",
      "memory usage: 126.5+ MB\n"
     ]
    }
   ],
   "source": [
    "data.info()"
   ]
  },
  {
   "cell_type": "markdown",
   "metadata": {},
   "source": [
    "Видно, что есть нулевые или битые значения, посмотрим поближе, почистим"
   ]
  },
  {
   "cell_type": "code",
   "execution_count": 24,
   "metadata": {},
   "outputs": [
    {
     "data": {
      "text/plain": [
       "Месяц                         0\n",
       "Статус транзакци              0\n",
       "Мерчант                       0\n",
       "Категория мерчанта            0\n",
       "Канал                         0\n",
       "МПС                           0\n",
       "Продукт карты             32190\n",
       "Признак карты               876\n",
       "Страна карты                275\n",
       "Банк rus                  60964\n",
       "Bank eng                 541452\n",
       "Оборот                      877\n",
       "Количество транзакций         0\n",
       "Доход от мерчанта           876\n",
       "Расход на МПС               876\n",
       "dtype: int64"
      ]
     },
     "execution_count": 24,
     "metadata": {},
     "output_type": "execute_result"
    }
   ],
   "source": [
    "data.isna().sum()"
   ]
  },
  {
   "cell_type": "code",
   "execution_count": 25,
   "metadata": {},
   "outputs": [
    {
     "data": {
      "text/html": [
       "<div>\n",
       "<style scoped>\n",
       "    .dataframe tbody tr th:only-of-type {\n",
       "        vertical-align: middle;\n",
       "    }\n",
       "\n",
       "    .dataframe tbody tr th {\n",
       "        vertical-align: top;\n",
       "    }\n",
       "\n",
       "    .dataframe thead th {\n",
       "        text-align: right;\n",
       "    }\n",
       "</style>\n",
       "<table border=\"1\" class=\"dataframe\">\n",
       "  <thead>\n",
       "    <tr style=\"text-align: right;\">\n",
       "      <th></th>\n",
       "      <th>Месяц</th>\n",
       "      <th>Статус транзакци</th>\n",
       "      <th>Мерчант</th>\n",
       "      <th>Категория мерчанта</th>\n",
       "      <th>Канал</th>\n",
       "      <th>МПС</th>\n",
       "      <th>Продукт карты</th>\n",
       "      <th>Признак карты</th>\n",
       "      <th>Страна карты</th>\n",
       "      <th>Банк rus</th>\n",
       "      <th>Bank eng</th>\n",
       "      <th>Оборот</th>\n",
       "      <th>Количество транзакций</th>\n",
       "      <th>Доход от мерчанта</th>\n",
       "      <th>Расход на МПС</th>\n",
       "    </tr>\n",
       "  </thead>\n",
       "  <tbody>\n",
       "    <tr>\n",
       "      <th>2036</th>\n",
       "      <td>2019-10-01</td>\n",
       "      <td>60</td>\n",
       "      <td>Мерчант44</td>\n",
       "      <td>Категория3</td>\n",
       "      <td>2398</td>\n",
       "      <td>MasterCard</td>\n",
       "      <td>NaN</td>\n",
       "      <td>NaN</td>\n",
       "      <td>112.0</td>\n",
       "      <td>BELARUSSIAN BANK OF DEVELOPME;;MasterCard;OTHE...</td>\n",
       "      <td>NaN</td>\n",
       "      <td>NaN</td>\n",
       "      <td>0.0</td>\n",
       "      <td>NaN</td>\n",
       "      <td>NaN</td>\n",
       "    </tr>\n",
       "    <tr>\n",
       "      <th>2254</th>\n",
       "      <td>2019-10-01</td>\n",
       "      <td>60</td>\n",
       "      <td>Мерчант44</td>\n",
       "      <td>Категория3</td>\n",
       "      <td>2398</td>\n",
       "      <td>MasterCard</td>\n",
       "      <td>NaN</td>\n",
       "      <td>NaN</td>\n",
       "      <td>112.0</td>\n",
       "      <td>BELARUSSIAN BANK OF DEVELOPME;BELARUSSIAN BANK...</td>\n",
       "      <td>NaN</td>\n",
       "      <td>NaN</td>\n",
       "      <td>0.0</td>\n",
       "      <td>NaN</td>\n",
       "      <td>NaN</td>\n",
       "    </tr>\n",
       "    <tr>\n",
       "      <th>2728</th>\n",
       "      <td>2019-10-01</td>\n",
       "      <td>60</td>\n",
       "      <td>Мерчант44</td>\n",
       "      <td>Категория3</td>\n",
       "      <td>2398</td>\n",
       "      <td>MasterCard</td>\n",
       "      <td>NaN</td>\n",
       "      <td>NaN</td>\n",
       "      <td>112.0</td>\n",
       "      <td>BELARUSSIAN BANK OF DEVELOPME;BELARUSSIAN BANK...</td>\n",
       "      <td>NaN</td>\n",
       "      <td>NaN</td>\n",
       "      <td>0.0</td>\n",
       "      <td>NaN</td>\n",
       "      <td>NaN</td>\n",
       "    </tr>\n",
       "    <tr>\n",
       "      <th>2805</th>\n",
       "      <td>2019-11-01</td>\n",
       "      <td>60</td>\n",
       "      <td>Мерчант44</td>\n",
       "      <td>Категория3</td>\n",
       "      <td>2398</td>\n",
       "      <td>MasterCard</td>\n",
       "      <td>NaN</td>\n",
       "      <td>NaN</td>\n",
       "      <td>112.0</td>\n",
       "      <td>BELARUSSIAN BANK OF DEVELOPME;BELARUSSIAN BANK...</td>\n",
       "      <td>NaN</td>\n",
       "      <td>NaN</td>\n",
       "      <td>0.0</td>\n",
       "      <td>NaN</td>\n",
       "      <td>NaN</td>\n",
       "    </tr>\n",
       "    <tr>\n",
       "      <th>4080</th>\n",
       "      <td>2019-11-01</td>\n",
       "      <td>60</td>\n",
       "      <td>Мерчант44</td>\n",
       "      <td>Категория3</td>\n",
       "      <td>2398</td>\n",
       "      <td>MasterCard</td>\n",
       "      <td>NaN</td>\n",
       "      <td>NaN</td>\n",
       "      <td>112.0</td>\n",
       "      <td>BELARUSSIAN BANK OF DEVELOPME;BELARUSSIAN BANK...</td>\n",
       "      <td>NaN</td>\n",
       "      <td>NaN</td>\n",
       "      <td>0.0</td>\n",
       "      <td>NaN</td>\n",
       "      <td>NaN</td>\n",
       "    </tr>\n",
       "    <tr>\n",
       "      <th>...</th>\n",
       "      <td>...</td>\n",
       "      <td>...</td>\n",
       "      <td>...</td>\n",
       "      <td>...</td>\n",
       "      <td>...</td>\n",
       "      <td>...</td>\n",
       "      <td>...</td>\n",
       "      <td>...</td>\n",
       "      <td>...</td>\n",
       "      <td>...</td>\n",
       "      <td>...</td>\n",
       "      <td>...</td>\n",
       "      <td>...</td>\n",
       "      <td>...</td>\n",
       "      <td>...</td>\n",
       "    </tr>\n",
       "    <tr>\n",
       "      <th>1032614</th>\n",
       "      <td>2019-11-01</td>\n",
       "      <td>60</td>\n",
       "      <td>Мерчант44</td>\n",
       "      <td>Категория3</td>\n",
       "      <td>2398</td>\n",
       "      <td>MasterCard</td>\n",
       "      <td>NaN</td>\n",
       "      <td>NaN</td>\n",
       "      <td>112.0</td>\n",
       "      <td>BELARUSSIAN BANK OF DEVELOPME;;MasterCard;OTHE...</td>\n",
       "      <td>NaN</td>\n",
       "      <td>NaN</td>\n",
       "      <td>0.0</td>\n",
       "      <td>NaN</td>\n",
       "      <td>NaN</td>\n",
       "    </tr>\n",
       "    <tr>\n",
       "      <th>1033179</th>\n",
       "      <td>2019-09-01</td>\n",
       "      <td>60</td>\n",
       "      <td>Мерчант44</td>\n",
       "      <td>Категория3</td>\n",
       "      <td>2398</td>\n",
       "      <td>MasterCard</td>\n",
       "      <td>NaN</td>\n",
       "      <td>NaN</td>\n",
       "      <td>112.0</td>\n",
       "      <td>BELARUSSIAN BANK OF DEVELOPME;BELARUSSIAN BANK...</td>\n",
       "      <td>NaN</td>\n",
       "      <td>NaN</td>\n",
       "      <td>0.0</td>\n",
       "      <td>NaN</td>\n",
       "      <td>NaN</td>\n",
       "    </tr>\n",
       "    <tr>\n",
       "      <th>1035500</th>\n",
       "      <td>2019-12-01</td>\n",
       "      <td>60</td>\n",
       "      <td>Мерчант44</td>\n",
       "      <td>Категория3</td>\n",
       "      <td>2398</td>\n",
       "      <td>MasterCard</td>\n",
       "      <td>NaN</td>\n",
       "      <td>NaN</td>\n",
       "      <td>112.0</td>\n",
       "      <td>BELARUSSIAN BANK OF DEVELOPME;;MasterCard;OTHE...</td>\n",
       "      <td>NaN</td>\n",
       "      <td>NaN</td>\n",
       "      <td>0.0</td>\n",
       "      <td>NaN</td>\n",
       "      <td>NaN</td>\n",
       "    </tr>\n",
       "    <tr>\n",
       "      <th>1035643</th>\n",
       "      <td>2020-01-01</td>\n",
       "      <td>60</td>\n",
       "      <td>Мерчант44</td>\n",
       "      <td>Категория3</td>\n",
       "      <td>2398</td>\n",
       "      <td>MasterCard</td>\n",
       "      <td>NaN</td>\n",
       "      <td>NaN</td>\n",
       "      <td>112.0</td>\n",
       "      <td>BELARUSSIAN BANK OF DEVELOPME;;MasterCard;OTHE...</td>\n",
       "      <td>NaN</td>\n",
       "      <td>NaN</td>\n",
       "      <td>0.0</td>\n",
       "      <td>NaN</td>\n",
       "      <td>NaN</td>\n",
       "    </tr>\n",
       "    <tr>\n",
       "      <th>1035724</th>\n",
       "      <td>2019-10-01</td>\n",
       "      <td>60</td>\n",
       "      <td>Мерчант44</td>\n",
       "      <td>Категория3</td>\n",
       "      <td>2398</td>\n",
       "      <td>MAESTRO</td>\n",
       "      <td>NaN</td>\n",
       "      <td>NaN</td>\n",
       "      <td>112.0</td>\n",
       "      <td>BELARUSSIAN BANK OF DEVELOPME;;MAESTRO;OTHER;2...</td>\n",
       "      <td>NaN</td>\n",
       "      <td>NaN</td>\n",
       "      <td>0.0</td>\n",
       "      <td>NaN</td>\n",
       "      <td>NaN</td>\n",
       "    </tr>\n",
       "  </tbody>\n",
       "</table>\n",
       "<p>877 rows × 15 columns</p>\n",
       "</div>"
      ],
      "text/plain": [
       "             Месяц  Статус транзакци    Мерчант Категория мерчанта  Канал  \\\n",
       "2036    2019-10-01                60  Мерчант44         Категория3   2398   \n",
       "2254    2019-10-01                60  Мерчант44         Категория3   2398   \n",
       "2728    2019-10-01                60  Мерчант44         Категория3   2398   \n",
       "2805    2019-11-01                60  Мерчант44         Категория3   2398   \n",
       "4080    2019-11-01                60  Мерчант44         Категория3   2398   \n",
       "...            ...               ...        ...                ...    ...   \n",
       "1032614 2019-11-01                60  Мерчант44         Категория3   2398   \n",
       "1033179 2019-09-01                60  Мерчант44         Категория3   2398   \n",
       "1035500 2019-12-01                60  Мерчант44         Категория3   2398   \n",
       "1035643 2020-01-01                60  Мерчант44         Категория3   2398   \n",
       "1035724 2019-10-01                60  Мерчант44         Категория3   2398   \n",
       "\n",
       "                МПС Продукт карты  Признак карты  Страна карты  \\\n",
       "2036     MasterCard           NaN            NaN         112.0   \n",
       "2254     MasterCard           NaN            NaN         112.0   \n",
       "2728     MasterCard           NaN            NaN         112.0   \n",
       "2805     MasterCard           NaN            NaN         112.0   \n",
       "4080     MasterCard           NaN            NaN         112.0   \n",
       "...             ...           ...            ...           ...   \n",
       "1032614  MasterCard           NaN            NaN         112.0   \n",
       "1033179  MasterCard           NaN            NaN         112.0   \n",
       "1035500  MasterCard           NaN            NaN         112.0   \n",
       "1035643  MasterCard           NaN            NaN         112.0   \n",
       "1035724     MAESTRO           NaN            NaN         112.0   \n",
       "\n",
       "                                                  Банк rus Bank eng  Оборот  \\\n",
       "2036     BELARUSSIAN BANK OF DEVELOPME;;MasterCard;OTHE...      NaN     NaN   \n",
       "2254     BELARUSSIAN BANK OF DEVELOPME;BELARUSSIAN BANK...      NaN     NaN   \n",
       "2728     BELARUSSIAN BANK OF DEVELOPME;BELARUSSIAN BANK...      NaN     NaN   \n",
       "2805     BELARUSSIAN BANK OF DEVELOPME;BELARUSSIAN BANK...      NaN     NaN   \n",
       "4080     BELARUSSIAN BANK OF DEVELOPME;BELARUSSIAN BANK...      NaN     NaN   \n",
       "...                                                    ...      ...     ...   \n",
       "1032614  BELARUSSIAN BANK OF DEVELOPME;;MasterCard;OTHE...      NaN     NaN   \n",
       "1033179  BELARUSSIAN BANK OF DEVELOPME;BELARUSSIAN BANK...      NaN     NaN   \n",
       "1035500  BELARUSSIAN BANK OF DEVELOPME;;MasterCard;OTHE...      NaN     NaN   \n",
       "1035643  BELARUSSIAN BANK OF DEVELOPME;;MasterCard;OTHE...      NaN     NaN   \n",
       "1035724  BELARUSSIAN BANK OF DEVELOPME;;MAESTRO;OTHER;2...      NaN     NaN   \n",
       "\n",
       "         Количество транзакций  Доход от мерчанта  Расход на МПС  \n",
       "2036                       0.0                NaN            NaN  \n",
       "2254                       0.0                NaN            NaN  \n",
       "2728                       0.0                NaN            NaN  \n",
       "2805                       0.0                NaN            NaN  \n",
       "4080                       0.0                NaN            NaN  \n",
       "...                        ...                ...            ...  \n",
       "1032614                    0.0                NaN            NaN  \n",
       "1033179                    0.0                NaN            NaN  \n",
       "1035500                    0.0                NaN            NaN  \n",
       "1035643                    0.0                NaN            NaN  \n",
       "1035724                    0.0                NaN            NaN  \n",
       "\n",
       "[877 rows x 15 columns]"
      ]
     },
     "execution_count": 25,
     "metadata": {},
     "output_type": "execute_result"
    }
   ],
   "source": [
    "data[data['Оборот'].isna()]"
   ]
  },
  {
   "cell_type": "code",
   "execution_count": 26,
   "metadata": {},
   "outputs": [],
   "source": [
    "data = data.dropna(subset=['Оборот','Доход от мерчанта'])"
   ]
  },
  {
   "cell_type": "code",
   "execution_count": 27,
   "metadata": {},
   "outputs": [
    {
     "data": {
      "text/plain": [
       "Месяц                         0\n",
       "Статус транзакци              0\n",
       "Мерчант                       0\n",
       "Категория мерчанта            0\n",
       "Канал                         0\n",
       "МПС                           0\n",
       "Продукт карты             31315\n",
       "Признак карты                 0\n",
       "Страна карты                273\n",
       "Банк rus                  60959\n",
       "Bank eng                 540580\n",
       "Оборот                        0\n",
       "Количество транзакций         0\n",
       "Доход от мерчанта             0\n",
       "Расход на МПС                 0\n",
       "dtype: int64"
      ]
     },
     "execution_count": 27,
     "metadata": {},
     "output_type": "execute_result"
    }
   ],
   "source": [
    "data.isna().sum()"
   ]
  },
  {
   "cell_type": "code",
   "execution_count": 28,
   "metadata": {},
   "outputs": [],
   "source": [
    "data['Страна карты'] = data['Страна карты'].fillna(0)"
   ]
  },
  {
   "cell_type": "code",
   "execution_count": 29,
   "metadata": {},
   "outputs": [
    {
     "data": {
      "text/html": [
       "<div>\n",
       "<style scoped>\n",
       "    .dataframe tbody tr th:only-of-type {\n",
       "        vertical-align: middle;\n",
       "    }\n",
       "\n",
       "    .dataframe tbody tr th {\n",
       "        vertical-align: top;\n",
       "    }\n",
       "\n",
       "    .dataframe thead th {\n",
       "        text-align: right;\n",
       "    }\n",
       "</style>\n",
       "<table border=\"1\" class=\"dataframe\">\n",
       "  <thead>\n",
       "    <tr style=\"text-align: right;\">\n",
       "      <th></th>\n",
       "      <th>Месяц</th>\n",
       "      <th>Статус транзакци</th>\n",
       "      <th>Мерчант</th>\n",
       "      <th>Категория мерчанта</th>\n",
       "      <th>Канал</th>\n",
       "      <th>МПС</th>\n",
       "      <th>Продукт карты</th>\n",
       "      <th>Признак карты</th>\n",
       "      <th>Страна карты</th>\n",
       "      <th>Банк rus</th>\n",
       "      <th>Bank eng</th>\n",
       "      <th>Оборот</th>\n",
       "      <th>Количество транзакций</th>\n",
       "      <th>Доход от мерчанта</th>\n",
       "      <th>Расход на МПС</th>\n",
       "    </tr>\n",
       "  </thead>\n",
       "  <tbody>\n",
       "    <tr>\n",
       "      <th>34</th>\n",
       "      <td>2019-01-01</td>\n",
       "      <td>65</td>\n",
       "      <td>Мерчант9</td>\n",
       "      <td>Категория1</td>\n",
       "      <td>1103</td>\n",
       "      <td>Mir</td>\n",
       "      <td>NaN</td>\n",
       "      <td>0.0</td>\n",
       "      <td>643.0</td>\n",
       "      <td>NaN</td>\n",
       "      <td>VTB</td>\n",
       "      <td>63.529412</td>\n",
       "      <td>11.764706</td>\n",
       "      <td>1.530973</td>\n",
       "      <td>-1.920354</td>\n",
       "    </tr>\n",
       "    <tr>\n",
       "      <th>38</th>\n",
       "      <td>2019-01-01</td>\n",
       "      <td>65</td>\n",
       "      <td>Мерчант2</td>\n",
       "      <td>Категория1</td>\n",
       "      <td>1096</td>\n",
       "      <td>Mir</td>\n",
       "      <td>NaN</td>\n",
       "      <td>0.0</td>\n",
       "      <td>643.0</td>\n",
       "      <td>NaN</td>\n",
       "      <td>VTB</td>\n",
       "      <td>21.176471</td>\n",
       "      <td>5.882353</td>\n",
       "      <td>0.283186</td>\n",
       "      <td>-0.053097</td>\n",
       "    </tr>\n",
       "    <tr>\n",
       "      <th>42</th>\n",
       "      <td>2019-01-01</td>\n",
       "      <td>65</td>\n",
       "      <td>Мерчант13</td>\n",
       "      <td>Категория1</td>\n",
       "      <td>1229</td>\n",
       "      <td>Mir</td>\n",
       "      <td>NaN</td>\n",
       "      <td>0.0</td>\n",
       "      <td>643.0</td>\n",
       "      <td>NaN</td>\n",
       "      <td>Sberbank</td>\n",
       "      <td>8.694118</td>\n",
       "      <td>11.764706</td>\n",
       "      <td>0.221239</td>\n",
       "      <td>-0.238938</td>\n",
       "    </tr>\n",
       "    <tr>\n",
       "      <th>44</th>\n",
       "      <td>2019-01-01</td>\n",
       "      <td>65</td>\n",
       "      <td>Мерчант2</td>\n",
       "      <td>Категория1</td>\n",
       "      <td>111</td>\n",
       "      <td>Mir</td>\n",
       "      <td>NaN</td>\n",
       "      <td>0.0</td>\n",
       "      <td>643.0</td>\n",
       "      <td>NaN</td>\n",
       "      <td>Sberbank</td>\n",
       "      <td>15.058824</td>\n",
       "      <td>23.529412</td>\n",
       "      <td>0.433628</td>\n",
       "      <td>-0.415929</td>\n",
       "    </tr>\n",
       "    <tr>\n",
       "      <th>48</th>\n",
       "      <td>2019-01-01</td>\n",
       "      <td>65</td>\n",
       "      <td>Мерчант12</td>\n",
       "      <td>Категория1</td>\n",
       "      <td>1181</td>\n",
       "      <td>Mir</td>\n",
       "      <td>NaN</td>\n",
       "      <td>0.0</td>\n",
       "      <td>643.0</td>\n",
       "      <td>NaN</td>\n",
       "      <td>Sberbank</td>\n",
       "      <td>32.835294</td>\n",
       "      <td>23.529412</td>\n",
       "      <td>0.884956</td>\n",
       "      <td>-0.884956</td>\n",
       "    </tr>\n",
       "    <tr>\n",
       "      <th>...</th>\n",
       "      <td>...</td>\n",
       "      <td>...</td>\n",
       "      <td>...</td>\n",
       "      <td>...</td>\n",
       "      <td>...</td>\n",
       "      <td>...</td>\n",
       "      <td>...</td>\n",
       "      <td>...</td>\n",
       "      <td>...</td>\n",
       "      <td>...</td>\n",
       "      <td>...</td>\n",
       "      <td>...</td>\n",
       "      <td>...</td>\n",
       "      <td>...</td>\n",
       "      <td>...</td>\n",
       "    </tr>\n",
       "    <tr>\n",
       "      <th>1036092</th>\n",
       "      <td>2019-03-01</td>\n",
       "      <td>65</td>\n",
       "      <td>Мерчант9</td>\n",
       "      <td>Категория1</td>\n",
       "      <td>1103</td>\n",
       "      <td>Mir</td>\n",
       "      <td>NaN</td>\n",
       "      <td>0.0</td>\n",
       "      <td>643.0</td>\n",
       "      <td>Банк ВТБ</td>\n",
       "      <td>VTB</td>\n",
       "      <td>35.588235</td>\n",
       "      <td>17.647059</td>\n",
       "      <td>0.858407</td>\n",
       "      <td>-0.911504</td>\n",
       "    </tr>\n",
       "    <tr>\n",
       "      <th>1036150</th>\n",
       "      <td>2019-04-01</td>\n",
       "      <td>65</td>\n",
       "      <td>Мерчант16</td>\n",
       "      <td>Категория1</td>\n",
       "      <td>1512</td>\n",
       "      <td>Mir</td>\n",
       "      <td>NaN</td>\n",
       "      <td>0.0</td>\n",
       "      <td>643.0</td>\n",
       "      <td>Банк ВТБ</td>\n",
       "      <td>VTB</td>\n",
       "      <td>248.205882</td>\n",
       "      <td>17.647059</td>\n",
       "      <td>1.867257</td>\n",
       "      <td>-0.584071</td>\n",
       "    </tr>\n",
       "    <tr>\n",
       "      <th>1036152</th>\n",
       "      <td>2019-05-01</td>\n",
       "      <td>65</td>\n",
       "      <td>Мерчант16</td>\n",
       "      <td>Категория1</td>\n",
       "      <td>1640</td>\n",
       "      <td>Mir</td>\n",
       "      <td>NaN</td>\n",
       "      <td>0.0</td>\n",
       "      <td>643.0</td>\n",
       "      <td>Банк Открытие</td>\n",
       "      <td>Bank Otkritie Financial Corporation</td>\n",
       "      <td>50.588235</td>\n",
       "      <td>5.882353</td>\n",
       "      <td>1.292035</td>\n",
       "      <td>-1.407080</td>\n",
       "    </tr>\n",
       "    <tr>\n",
       "      <th>1036247</th>\n",
       "      <td>2019-03-01</td>\n",
       "      <td>65</td>\n",
       "      <td>Мерчант16</td>\n",
       "      <td>Категория1</td>\n",
       "      <td>1512</td>\n",
       "      <td>Mir</td>\n",
       "      <td>NaN</td>\n",
       "      <td>0.0</td>\n",
       "      <td>643.0</td>\n",
       "      <td>NaN</td>\n",
       "      <td>RNCB</td>\n",
       "      <td>192.694118</td>\n",
       "      <td>11.764706</td>\n",
       "      <td>1.451327</td>\n",
       "      <td>-0.451327</td>\n",
       "    </tr>\n",
       "    <tr>\n",
       "      <th>1036256</th>\n",
       "      <td>2019-08-01</td>\n",
       "      <td>65</td>\n",
       "      <td>Мерчант6</td>\n",
       "      <td>Категория2</td>\n",
       "      <td>2198</td>\n",
       "      <td>Mir</td>\n",
       "      <td>NaN</td>\n",
       "      <td>0.0</td>\n",
       "      <td>643.0</td>\n",
       "      <td>NaN</td>\n",
       "      <td>Post Bank</td>\n",
       "      <td>58.823529</td>\n",
       "      <td>11.764706</td>\n",
       "      <td>0.000000</td>\n",
       "      <td>0.000000</td>\n",
       "    </tr>\n",
       "  </tbody>\n",
       "</table>\n",
       "<p>31315 rows × 15 columns</p>\n",
       "</div>"
      ],
      "text/plain": [
       "             Месяц  Статус транзакци    Мерчант Категория мерчанта  Канал  \\\n",
       "34      2019-01-01                65   Мерчант9         Категория1   1103   \n",
       "38      2019-01-01                65   Мерчант2         Категория1   1096   \n",
       "42      2019-01-01                65  Мерчант13         Категория1   1229   \n",
       "44      2019-01-01                65   Мерчант2         Категория1    111   \n",
       "48      2019-01-01                65  Мерчант12         Категория1   1181   \n",
       "...            ...               ...        ...                ...    ...   \n",
       "1036092 2019-03-01                65   Мерчант9         Категория1   1103   \n",
       "1036150 2019-04-01                65  Мерчант16         Категория1   1512   \n",
       "1036152 2019-05-01                65  Мерчант16         Категория1   1640   \n",
       "1036247 2019-03-01                65  Мерчант16         Категория1   1512   \n",
       "1036256 2019-08-01                65   Мерчант6         Категория2   2198   \n",
       "\n",
       "         МПС Продукт карты  Признак карты  Страна карты       Банк rus  \\\n",
       "34       Mir           NaN            0.0         643.0            NaN   \n",
       "38       Mir           NaN            0.0         643.0            NaN   \n",
       "42       Mir           NaN            0.0         643.0            NaN   \n",
       "44       Mir           NaN            0.0         643.0            NaN   \n",
       "48       Mir           NaN            0.0         643.0            NaN   \n",
       "...      ...           ...            ...           ...            ...   \n",
       "1036092  Mir           NaN            0.0         643.0       Банк ВТБ   \n",
       "1036150  Mir           NaN            0.0         643.0       Банк ВТБ   \n",
       "1036152  Mir           NaN            0.0         643.0  Банк Открытие   \n",
       "1036247  Mir           NaN            0.0         643.0            NaN   \n",
       "1036256  Mir           NaN            0.0         643.0            NaN   \n",
       "\n",
       "                                    Bank eng      Оборот  \\\n",
       "34                                       VTB   63.529412   \n",
       "38                                       VTB   21.176471   \n",
       "42                                  Sberbank    8.694118   \n",
       "44                                  Sberbank   15.058824   \n",
       "48                                  Sberbank   32.835294   \n",
       "...                                      ...         ...   \n",
       "1036092                                  VTB   35.588235   \n",
       "1036150                                  VTB  248.205882   \n",
       "1036152  Bank Otkritie Financial Corporation   50.588235   \n",
       "1036247                                 RNCB  192.694118   \n",
       "1036256                            Post Bank   58.823529   \n",
       "\n",
       "         Количество транзакций  Доход от мерчанта  Расход на МПС  \n",
       "34                   11.764706           1.530973      -1.920354  \n",
       "38                    5.882353           0.283186      -0.053097  \n",
       "42                   11.764706           0.221239      -0.238938  \n",
       "44                   23.529412           0.433628      -0.415929  \n",
       "48                   23.529412           0.884956      -0.884956  \n",
       "...                        ...                ...            ...  \n",
       "1036092              17.647059           0.858407      -0.911504  \n",
       "1036150              17.647059           1.867257      -0.584071  \n",
       "1036152               5.882353           1.292035      -1.407080  \n",
       "1036247              11.764706           1.451327      -0.451327  \n",
       "1036256              11.764706           0.000000       0.000000  \n",
       "\n",
       "[31315 rows x 15 columns]"
      ]
     },
     "execution_count": 29,
     "metadata": {},
     "output_type": "execute_result"
    }
   ],
   "source": [
    "data[data['Продукт карты'].isna()]"
   ]
  },
  {
   "cell_type": "code",
   "execution_count": 30,
   "metadata": {},
   "outputs": [
    {
     "data": {
      "text/plain": [
       "Debit          245801\n",
       "DEBIT          216205\n",
       "CREDIT         193595\n",
       "OTHER          171627\n",
       "Credit         126789\n",
       "PREPAID         32655\n",
       "Prepaid         17370\n",
       "not present        26\n",
       "Name: Продукт карты, dtype: int64"
      ]
     },
     "execution_count": 30,
     "metadata": {},
     "output_type": "execute_result"
    }
   ],
   "source": [
    "data['Продукт карты'].value_counts()"
   ]
  },
  {
   "cell_type": "code",
   "execution_count": 31,
   "metadata": {},
   "outputs": [],
   "source": [
    "data['Продукт карты'] = data['Продукт карты'].str.upper()"
   ]
  },
  {
   "cell_type": "code",
   "execution_count": 32,
   "metadata": {},
   "outputs": [
    {
     "data": {
      "text/plain": [
       "DEBIT          462006\n",
       "CREDIT         320384\n",
       "OTHER          171627\n",
       "PREPAID         50025\n",
       "NOT PRESENT        26\n",
       "Name: Продукт карты, dtype: int64"
      ]
     },
     "execution_count": 32,
     "metadata": {},
     "output_type": "execute_result"
    }
   ],
   "source": [
    "data['Продукт карты'].value_counts()"
   ]
  },
  {
   "cell_type": "code",
   "execution_count": 33,
   "metadata": {},
   "outputs": [
    {
     "data": {
      "text/plain": [
       "31315"
      ]
     },
     "execution_count": 33,
     "metadata": {},
     "output_type": "execute_result"
    }
   ],
   "source": [
    "data['Продукт карты'].isna().sum()"
   ]
  },
  {
   "cell_type": "code",
   "execution_count": 34,
   "metadata": {},
   "outputs": [],
   "source": [
    "data['Продукт карты'] = data['Продукт карты'].fillna('NOT PRESENT')"
   ]
  },
  {
   "cell_type": "code",
   "execution_count": 35,
   "metadata": {},
   "outputs": [
    {
     "data": {
      "text/plain": [
       "Месяц                         0\n",
       "Статус транзакци              0\n",
       "Мерчант                       0\n",
       "Категория мерчанта            0\n",
       "Канал                         0\n",
       "МПС                           0\n",
       "Продукт карты                 0\n",
       "Признак карты                 0\n",
       "Страна карты                  0\n",
       "Банк rus                  60959\n",
       "Bank eng                 540580\n",
       "Оборот                        0\n",
       "Количество транзакций         0\n",
       "Доход от мерчанта             0\n",
       "Расход на МПС                 0\n",
       "dtype: int64"
      ]
     },
     "execution_count": 35,
     "metadata": {},
     "output_type": "execute_result"
    }
   ],
   "source": [
    "data.isna().sum()"
   ]
  },
  {
   "cell_type": "code",
   "execution_count": 36,
   "metadata": {},
   "outputs": [
    {
     "data": {
      "text/plain": [
       "(1035383, 15)"
      ]
     },
     "execution_count": 36,
     "metadata": {},
     "output_type": "execute_result"
    }
   ],
   "source": [
    "data.shape"
   ]
  },
  {
   "cell_type": "code",
   "execution_count": 37,
   "metadata": {},
   "outputs": [
    {
     "name": "stdout",
     "output_type": "stream",
     "text": [
      "____________\n",
      "Месяц\n",
      "2019-01-01     40554\n",
      "2019-02-01     42273\n",
      "2019-03-01     49531\n",
      "2019-04-01     43585\n",
      "2019-05-01     43835\n",
      "2019-06-01     63974\n",
      "2019-07-01     70651\n",
      "2019-08-01     82173\n",
      "2019-09-01    101246\n",
      "2019-10-01    138874\n",
      "2019-11-01    148014\n",
      "2019-12-01    110964\n",
      "2020-01-01     99709\n",
      "Name: Месяц, dtype: int64\n",
      "____________\n",
      "Статус транзакци\n",
      "60    406370\n",
      "65    628306\n",
      "77        70\n",
      "80       637\n",
      "Name: Статус транзакци, dtype: int64\n",
      "____________\n",
      "Мерчант\n",
      "Мерчант1         39\n",
      "Мерчант10         6\n",
      "Мерчант11        25\n",
      "Мерчант12     19283\n",
      "Мерчант13      8469\n",
      "Мерчант14      1223\n",
      "Мерчант15     16138\n",
      "Мерчант16     96629\n",
      "Мерчант17       183\n",
      "Мерчант18     56152\n",
      "Мерчант19      1281\n",
      "Мерчант2      59352\n",
      "Мерчант20      4922\n",
      "Мерчант21      5691\n",
      "Мерчант22     16978\n",
      "Мерчант23     11916\n",
      "Мерчант24     20995\n",
      "Мерчант25      5267\n",
      "Мерчант26      1696\n",
      "Мерчант27      4899\n",
      "Мерчант28         5\n",
      "Мерчант29     37571\n",
      "Мерчант3        856\n",
      "Мерчант30       278\n",
      "Мерчант31         9\n",
      "Мерчант32       232\n",
      "Мерчант33         1\n",
      "Мерчант34        11\n",
      "Мерчант35        10\n",
      "Мерчант36         2\n",
      "Мерчант37      2514\n",
      "Мерчант38       202\n",
      "Мерчант39      6668\n",
      "Мерчант4      18771\n",
      "Мерчант40         5\n",
      "Мерчант41       203\n",
      "Мерчант42     38348\n",
      "Мерчант43     38386\n",
      "Мерчант44    257011\n",
      "Мерчант45      5036\n",
      "Мерчант46        54\n",
      "Мерчант47      3872\n",
      "Мерчант48        10\n",
      "Мерчант49         4\n",
      "Мерчант5      71921\n",
      "Мерчант50      5808\n",
      "Мерчант51         1\n",
      "Мерчант52      6824\n",
      "Мерчант53         8\n",
      "Мерчант54      7120\n",
      "Мерчант55         4\n",
      "Мерчант56     11615\n",
      "Мерчант6     131515\n",
      "Мерчант7       7331\n",
      "Мерчант8       2474\n",
      "Мерчант9      49559\n",
      "Name: Мерчант, dtype: int64\n",
      "____________\n",
      "Категория мерчанта\n",
      "Категория1    588235\n",
      "Категория2    132835\n",
      "Категория3    314313\n",
      "Name: Категория мерчанта, dtype: int64\n",
      "____________\n",
      "Канал\n",
      "111      9150\n",
      "112     10626\n",
      "189      1059\n",
      "192        27\n",
      "193       496\n",
      "        ...  \n",
      "2926      225\n",
      "2927      491\n",
      "2928      369\n",
      "2964        3\n",
      "2968        5\n",
      "Name: Канал, Length: 183, dtype: int64\n",
      "____________\n",
      "МПС\n",
      "MAESTRO        37331\n",
      "MasterCard    387994\n",
      "Mir           202496\n",
      "VISA          407562\n",
      "Name: МПС, dtype: int64\n",
      "____________\n",
      "Продукт карты\n",
      "CREDIT         320384\n",
      "DEBIT          462006\n",
      "NOT PRESENT     31341\n",
      "OTHER          171627\n",
      "PREPAID         50025\n",
      "Name: Продукт карты, dtype: int64\n",
      "____________\n",
      "Признак карты\n",
      "0.0    965192\n",
      "1.0     70191\n",
      "Name: Признак карты, dtype: int64\n",
      "____________\n",
      "Страна карты\n",
      "0.0         347\n",
      "31.0       6710\n",
      "51.0       3124\n",
      "112.0     18394\n",
      "203.0         1\n",
      "208.0         1\n",
      "233.0         5\n",
      "268.0        13\n",
      "372.0         1\n",
      "376.0        23\n",
      "380.0         1\n",
      "398.0     14534\n",
      "410.0         2\n",
      "417.0      3698\n",
      "428.0        17\n",
      "440.0        11\n",
      "498.0      5771\n",
      "566.0         1\n",
      "616.0         4\n",
      "643.0    961879\n",
      "688.0         2\n",
      "704.0         1\n",
      "762.0       366\n",
      "784.0         1\n",
      "792.0         4\n",
      "804.0     16965\n",
      "826.0        14\n",
      "860.0      3493\n",
      "Name: Страна карты, dtype: int64\n",
      "____________\n",
      "Банк rus\n",
      "ACBA CREDIT AGRICOLE BANK CJSC                290\n",
      "ACCESSBANK CJSC                               146\n",
      "ACCESSBANK CLOSED JOINT STOCK                 133\n",
      "AFB BANK OJSC                                  26\n",
      "AFB BANK OPEN JOINT-STOCK COMP                 21\n",
      "                                            ...  \n",
      "Сбербанк России                            196588\n",
      "Сургутнефтегазбанк                           1448\n",
      "Тинькофф банк                               55770\n",
      "Уральский банк реконструкции и развития      3730\n",
      "Юникредит банк                              10464\n",
      "Name: Банк rus, Length: 622, dtype: int64\n",
      "____________\n",
      "Bank eng\n",
      "ABSOLUT BANK (PAO)                       872\n",
      "ACBA CREDIT AGRICOLE BANK CJSC            79\n",
      "ACCESSBANK CJSC                           24\n",
      "ACCESSBANK CLOSED JOINT STOCK COMPANY     31\n",
      "AFB BANK OJSC                              2\n",
      "                                        ... \n",
      "Zapsibcombank                            812\n",
      "Zemsky bank                                2\n",
      "kubankredit                               59\n",
      "sgb                                      114\n",
      "thbank                                    10\n",
      "Name: Bank eng, Length: 676, dtype: int64\n",
      "____________\n",
      "Оборот\n",
      "-5983.929412      1\n",
      "-5350.764706      1\n",
      "-4292.082353      1\n",
      "-2417.347059      1\n",
      "-1698.788235      1\n",
      "                 ..\n",
      " 327145.305882    1\n",
      " 350442.152941    1\n",
      " 368675.629412    1\n",
      " 393076.735294    1\n",
      " 441333.547059    1\n",
      "Name: Оборот, Length: 133193, dtype: int64\n",
      "____________\n",
      "Количество транзакций\n",
      "1.000000              1\n",
      "5.882353         507229\n",
      "11.764706        149944\n",
      "17.647059         75738\n",
      "23.529412         47445\n",
      "                  ...  \n",
      "115900.000000         1\n",
      "116629.411765         1\n",
      "116652.941176         1\n",
      "119358.823529         1\n",
      "121094.117647         1\n",
      "Name: Количество транзакций, Length: 2733, dtype: int64\n",
      "____________\n",
      "Доход от мерчанта\n",
      "0.000000       341220\n",
      "0.008850         9963\n",
      "0.017699        11157\n",
      "0.026549         7763\n",
      "0.035398        10114\n",
      "                ...  \n",
      "1963.442478         1\n",
      "1974.424779         1\n",
      "2060.194690         1\n",
      "2069.743363         1\n",
      "2323.840708         1\n",
      "Name: Доход от мерчанта, Length: 13232, dtype: int64\n",
      "____________\n",
      "Расход на МПС\n",
      "-89759.000000    1\n",
      "-10000.000000    1\n",
      "-5475.000000     1\n",
      "-4800.000000     1\n",
      "-4500.000000     1\n",
      "                ..\n",
      " 6.946903        1\n",
      " 7.035398        1\n",
      " 7.159292        1\n",
      " 9.743363        1\n",
      " 14.973451       1\n",
      "Name: Расход на МПС, Length: 10977, dtype: int64\n"
     ]
    }
   ],
   "source": [
    "for i in data.columns:\n",
    "    print('____________')\n",
    "    print(i)\n",
    "    print(data[i].value_counts().sort_index())"
   ]
  },
  {
   "cell_type": "markdown",
   "metadata": {},
   "source": [
    "Таким образом получим +/- рабочий датасет, дополнительно определим, что можно добавить столбец, в котором будет указан год для каждой транзакции, т.к интервал в данных у нас 13 месяцев, работать будем с данными за 2019 год и которые имеют положительный статус транзакции, для наглядности вытащим в отдельный датасет 'data2019'."
   ]
  },
  {
   "cell_type": "code",
   "execution_count": 38,
   "metadata": {},
   "outputs": [],
   "source": [
    "data['year'] = data['Месяц'].dt.year"
   ]
  },
  {
   "cell_type": "code",
   "execution_count": 39,
   "metadata": {},
   "outputs": [
    {
     "data": {
      "text/html": [
       "<div>\n",
       "<style scoped>\n",
       "    .dataframe tbody tr th:only-of-type {\n",
       "        vertical-align: middle;\n",
       "    }\n",
       "\n",
       "    .dataframe tbody tr th {\n",
       "        vertical-align: top;\n",
       "    }\n",
       "\n",
       "    .dataframe thead th {\n",
       "        text-align: right;\n",
       "    }\n",
       "</style>\n",
       "<table border=\"1\" class=\"dataframe\">\n",
       "  <thead>\n",
       "    <tr style=\"text-align: right;\">\n",
       "      <th></th>\n",
       "      <th>Месяц</th>\n",
       "      <th>Статус транзакци</th>\n",
       "      <th>Мерчант</th>\n",
       "      <th>Категория мерчанта</th>\n",
       "      <th>Канал</th>\n",
       "      <th>МПС</th>\n",
       "      <th>Продукт карты</th>\n",
       "      <th>Признак карты</th>\n",
       "      <th>Страна карты</th>\n",
       "      <th>Банк rus</th>\n",
       "      <th>Bank eng</th>\n",
       "      <th>Оборот</th>\n",
       "      <th>Количество транзакций</th>\n",
       "      <th>Доход от мерчанта</th>\n",
       "      <th>Расход на МПС</th>\n",
       "      <th>year</th>\n",
       "    </tr>\n",
       "  </thead>\n",
       "  <tbody>\n",
       "    <tr>\n",
       "      <th>1</th>\n",
       "      <td>2019-01-01</td>\n",
       "      <td>65</td>\n",
       "      <td>Мерчант9</td>\n",
       "      <td>Категория1</td>\n",
       "      <td>1105</td>\n",
       "      <td>MasterCard</td>\n",
       "      <td>DEBIT</td>\n",
       "      <td>0.0</td>\n",
       "      <td>643.0</td>\n",
       "      <td>Альфа-банк</td>\n",
       "      <td>JOINT STOCK COMPANY ALFA-BANK</td>\n",
       "      <td>38.382353</td>\n",
       "      <td>1.000000</td>\n",
       "      <td>0.920354</td>\n",
       "      <td>-1.053097</td>\n",
       "      <td>2019</td>\n",
       "    </tr>\n",
       "    <tr>\n",
       "      <th>2</th>\n",
       "      <td>2019-01-01</td>\n",
       "      <td>65</td>\n",
       "      <td>Мерчант8</td>\n",
       "      <td>Категория1</td>\n",
       "      <td>1100</td>\n",
       "      <td>VISA</td>\n",
       "      <td>DEBIT</td>\n",
       "      <td>0.0</td>\n",
       "      <td>643.0</td>\n",
       "      <td>NaN</td>\n",
       "      <td>PUBLIC JOINT-STOCK COMPANY BANK OTKRITIE FINAN...</td>\n",
       "      <td>50.000000</td>\n",
       "      <td>11.764706</td>\n",
       "      <td>1.203540</td>\n",
       "      <td>-1.353982</td>\n",
       "      <td>2019</td>\n",
       "    </tr>\n",
       "    <tr>\n",
       "      <th>3</th>\n",
       "      <td>2019-01-01</td>\n",
       "      <td>65</td>\n",
       "      <td>Мерчант8</td>\n",
       "      <td>Категория1</td>\n",
       "      <td>1100</td>\n",
       "      <td>VISA</td>\n",
       "      <td>DEBIT</td>\n",
       "      <td>0.0</td>\n",
       "      <td>643.0</td>\n",
       "      <td>Сбербанк России</td>\n",
       "      <td>SBERBANK OF RUSSIA</td>\n",
       "      <td>4.705882</td>\n",
       "      <td>11.764706</td>\n",
       "      <td>0.115044</td>\n",
       "      <td>-0.123894</td>\n",
       "      <td>2019</td>\n",
       "    </tr>\n",
       "    <tr>\n",
       "      <th>4</th>\n",
       "      <td>2019-01-01</td>\n",
       "      <td>65</td>\n",
       "      <td>Мерчант13</td>\n",
       "      <td>Категория1</td>\n",
       "      <td>1230</td>\n",
       "      <td>VISA</td>\n",
       "      <td>CREDIT</td>\n",
       "      <td>0.0</td>\n",
       "      <td>643.0</td>\n",
       "      <td>NaN</td>\n",
       "      <td>VTB BANK PJSC</td>\n",
       "      <td>83.864706</td>\n",
       "      <td>23.529412</td>\n",
       "      <td>0.884956</td>\n",
       "      <td>-0.061947</td>\n",
       "      <td>2019</td>\n",
       "    </tr>\n",
       "    <tr>\n",
       "      <th>5</th>\n",
       "      <td>2019-01-01</td>\n",
       "      <td>65</td>\n",
       "      <td>Мерчант8</td>\n",
       "      <td>Категория1</td>\n",
       "      <td>1368</td>\n",
       "      <td>MasterCard</td>\n",
       "      <td>DEBIT</td>\n",
       "      <td>0.0</td>\n",
       "      <td>643.0</td>\n",
       "      <td>Сбербанк России</td>\n",
       "      <td>SBERBANK OF RUSSIA</td>\n",
       "      <td>23.823529</td>\n",
       "      <td>17.647059</td>\n",
       "      <td>0.575221</td>\n",
       "      <td>-0.575221</td>\n",
       "      <td>2019</td>\n",
       "    </tr>\n",
       "  </tbody>\n",
       "</table>\n",
       "</div>"
      ],
      "text/plain": [
       "       Месяц  Статус транзакци    Мерчант Категория мерчанта  Канал  \\\n",
       "1 2019-01-01                65   Мерчант9         Категория1   1105   \n",
       "2 2019-01-01                65   Мерчант8         Категория1   1100   \n",
       "3 2019-01-01                65   Мерчант8         Категория1   1100   \n",
       "4 2019-01-01                65  Мерчант13         Категория1   1230   \n",
       "5 2019-01-01                65   Мерчант8         Категория1   1368   \n",
       "\n",
       "          МПС Продукт карты  Признак карты  Страна карты         Банк rus  \\\n",
       "1  MasterCard         DEBIT            0.0         643.0       Альфа-банк   \n",
       "2        VISA         DEBIT            0.0         643.0              NaN   \n",
       "3        VISA         DEBIT            0.0         643.0  Сбербанк России   \n",
       "4        VISA        CREDIT            0.0         643.0              NaN   \n",
       "5  MasterCard         DEBIT            0.0         643.0  Сбербанк России   \n",
       "\n",
       "                                            Bank eng     Оборот  \\\n",
       "1                      JOINT STOCK COMPANY ALFA-BANK  38.382353   \n",
       "2  PUBLIC JOINT-STOCK COMPANY BANK OTKRITIE FINAN...  50.000000   \n",
       "3                                 SBERBANK OF RUSSIA   4.705882   \n",
       "4                                      VTB BANK PJSC  83.864706   \n",
       "5                                 SBERBANK OF RUSSIA  23.823529   \n",
       "\n",
       "   Количество транзакций  Доход от мерчанта  Расход на МПС  year  \n",
       "1               1.000000           0.920354      -1.053097  2019  \n",
       "2              11.764706           1.203540      -1.353982  2019  \n",
       "3              11.764706           0.115044      -0.123894  2019  \n",
       "4              23.529412           0.884956      -0.061947  2019  \n",
       "5              17.647059           0.575221      -0.575221  2019  "
      ]
     },
     "execution_count": 39,
     "metadata": {},
     "output_type": "execute_result"
    }
   ],
   "source": [
    "data.head()"
   ]
  },
  {
   "cell_type": "code",
   "execution_count": 40,
   "metadata": {},
   "outputs": [],
   "source": [
    "data19 = data[((data['Статус транзакци']==65) | (data['Статус транзакци']==80)) & (data.year==2019)]"
   ]
  },
  {
   "cell_type": "markdown",
   "metadata": {},
   "source": [
    "Проведем небольшой обзор ключевых показателей, познакомимся на специфику отрасли в целом и ее характеристики. Начнем с оборота транзакций в разрезе ПС:"
   ]
  },
  {
   "cell_type": "code",
   "execution_count": 41,
   "metadata": {},
   "outputs": [],
   "source": [
    "source = data19.groupby('МПС')['Количество транзакций'].sum().apply(lambda x:round(x,0))\n",
    "text = '''МПС                    ОБОРОТ\n",
    "MAESTRO             935512\n",
    "MasterCard        9020848\n",
    "Mir                     3422082\n",
    "VISA                 14310876\n",
    "ВСЕГО              27689318'''"
   ]
  },
  {
   "cell_type": "code",
   "execution_count": 42,
   "metadata": {},
   "outputs": [
    {
     "data": {
      "text/plain": [
       "МПС\n",
       "MAESTRO         935512.0\n",
       "MasterCard     9020848.0\n",
       "Mir            3422082.0\n",
       "VISA          14310876.0\n",
       "Name: Количество транзакций, dtype: float64"
      ]
     },
     "execution_count": 42,
     "metadata": {},
     "output_type": "execute_result"
    }
   ],
   "source": [
    "source"
   ]
  },
  {
   "cell_type": "code",
   "execution_count": 43,
   "metadata": {},
   "outputs": [
    {
     "data": {
      "image/png": "[encoded data removed]",
      "text/plain": [
       "<Figure size 720x360 with 1 Axes>"
      ]
     },
     "metadata": {},
     "output_type": "display_data"
    }
   ],
   "source": [
    "labels = list(source.index.values)\n",
    "values = [i for i in source.unique()]\n",
    "explode = (0, 0, .15, 0) \n",
    "f, ax = plt.subplots(figsize=[10,5])\n",
    "ax.pie(values, explode=explode, labels=labels, autopct='%1.1f%%', shadow=True, startangle=90)\n",
    "ax.axis('equal')\n",
    "plt.tight_layout()\n",
    "plt.title('Доля платежных систем по кол-ву транзакций', size=15, pad=25)\n",
    "plt.text(-3, 1, text, bbox=dict(facecolor='white', alpha=0.5), fontsize=14)\n",
    "plt.show()"
   ]
  },
  {
   "cell_type": "markdown",
   "metadata": {},
   "source": [
    "    Здесь можно отметить, что чаще всего используются карты VISA, интересно было бы посмотреть на тенденции измения долей за последние 2-3 года, однако также можно сказать, что карты Мир продолжают показывать увеличение своей доли, что следует из данных в целом по рынку из открытых источников."
   ]
  },
  {
   "cell_type": "markdown",
   "metadata": {},
   "source": [
    "Теперь можно обратиться к динамике оборота по платежам, посмотреть на измения и из возможные причины:"
   ]
  },
  {
   "cell_type": "code",
   "execution_count": 44,
   "metadata": {},
   "outputs": [
    {
     "data": {
      "text/plain": [
       "171310695.0"
      ]
     },
     "execution_count": 44,
     "metadata": {},
     "output_type": "execute_result"
    }
   ],
   "source": [
    "hista = data19.groupby('Месяц')['Оборот'].sum().apply(lambda x:round(x,0))\n",
    "hista.sum()"
   ]
  },
  {
   "cell_type": "code",
   "execution_count": 45,
   "metadata": {},
   "outputs": [
    {
     "data": {
      "text/plain": [
       "0.5807772013300162"
      ]
     },
     "execution_count": 45,
     "metadata": {},
     "output_type": "execute_result"
    }
   ],
   "source": [
    "hista[4:8].values.sum()/hista.sum()"
   ]
  },
  {
   "cell_type": "code",
   "execution_count": 46,
   "metadata": {},
   "outputs": [
    {
     "data": {
      "image/png": "[encoded data removed]",
      "text/plain": [
       "<Figure size 1080x360 with 1 Axes>"
      ]
     },
     "metadata": {
      "needs_background": "light"
     },
     "output_type": "display_data"
    }
   ],
   "source": [
    "x = [i.month for i in hista.index.to_pydatetime()]\n",
    "y = [i for i in hista.values]\n",
    "f, ax = plt.subplots(figsize=[15,5])\n",
    "plt.plot(x, y, linewidth=2)\n",
    "plt.title('Динамика оборота по платежам за 2019 год', size=15, pad=25)\n",
    "plt.xlabel('Месяц', size=15)\n",
    "plt.ylabel('Кол-во операций в млн.', size=15)\n",
    "plt.grid(axis='y')\n",
    "ax.set_yticks([i for i in range(5000000,40000000,3000000)])\n",
    "ax.set_yticklabels([i/1000000 for i in range(5000000,40000000,3000000)])\n",
    "ax.set_xticks(range(1,13))\n",
    "plt.show()"
   ]
  },
  {
   "cell_type": "markdown",
   "metadata": {},
   "source": [
    "    По графику можно сказать, что на динамику изменения оборота влияет сезонность. Потребитель больше тратит в летний период, а также в праздничные месяца, такие как март и декабрьская предпраздничная суматоха. Общий оборот за 2019 год составил 171 млн рублей, а оборот по операциям за период май-сентябрь составляет почти 60% годового оборота."
   ]
  },
  {
   "cell_type": "markdown",
   "metadata": {},
   "source": [
    "Интересно было бы посмотреть на структуру по типу карт, по которым проходят операции:"
   ]
  },
  {
   "cell_type": "code",
   "execution_count": 48,
   "metadata": {},
   "outputs": [],
   "source": [
    "card_type_debit = data19[(data19['Продукт карты']=='DEBIT')].groupby('Месяц')['Оборот'].sum().apply(lambda x:round(x,0))\n",
    "card_type_credit = data19[(data19['Продукт карты']=='CREDIT')].groupby('Месяц')['Оборот'].sum().apply(lambda x:round(x,0))\n",
    "card_type_np = data19[(data19['Продукт карты']=='NOT PRESENT')].groupby('Месяц')['Оборот'].sum().apply(lambda x:round(x,0))\n",
    "card_type_other = data19[(data19['Продукт карты']=='OTHER')].groupby('Месяц')['Оборот'].sum().apply(lambda x:round(x,0))\n",
    "card_type_prepaid = data19[(data19['Продукт карты']=='PREPAID')].groupby('Месяц')['Оборот'].sum().apply(lambda x:round(x,0))"
   ]
  },
  {
   "cell_type": "code",
   "execution_count": 49,
   "metadata": {},
   "outputs": [
    {
     "data": {
      "text/plain": [
       "Продукт карты\n",
       "CREDIT          31824032.0\n",
       "DEBIT          111176008.0\n",
       "NOT PRESENT      4206276.0\n",
       "OTHER           21423073.0\n",
       "PREPAID          2681308.0\n",
       "Name: Оборот, dtype: float64"
      ]
     },
     "execution_count": 49,
     "metadata": {},
     "output_type": "execute_result"
    }
   ],
   "source": [
    "products_per_card = data19.groupby('Продукт карты')['Оборот'].sum().apply(lambda x:round(x,0))\n",
    "products_per_card"
   ]
  },
  {
   "cell_type": "code",
   "execution_count": 50,
   "metadata": {},
   "outputs": [
    {
     "data": {
      "text/plain": [
       "0.6489729476729641"
      ]
     },
     "execution_count": 50,
     "metadata": {},
     "output_type": "execute_result"
    }
   ],
   "source": [
    "products_per_card[1]/products_per_card.sum()"
   ]
  },
  {
   "cell_type": "code",
   "execution_count": 51,
   "metadata": {},
   "outputs": [
    {
     "data": {
      "image/png": "[encoded data removed]",
      "text/plain": [
       "<Figure size 1080x576 with 1 Axes>"
      ]
     },
     "metadata": {
      "needs_background": "light"
     },
     "output_type": "display_data"
    }
   ],
   "source": [
    "dbt = [i for i in card_type_debit.values]\n",
    "crd = [i for i in card_type_credit.values]\n",
    "np = [i for i in card_type_np.values]+[0,0]\n",
    "othr = [i for i in card_type_other.values]\n",
    "prp = [i for i in card_type_prepaid.values]\n",
    "\n",
    "yrs = [i.month for i in hista.index.to_pydatetime()]\n",
    " \n",
    "f, ax = plt.subplots(figsize=(15, 8))\n",
    "ax.stackplot(yrs, crd, dbt, np, othr, prp, labels=[i for i in products_per_card.index])\n",
    "ax.set_title('Оборот за 2019 год в разрезе карточного продукта', size=15, pad=25)\n",
    "ax.set_ylabel('Кол-во операций в млн.', size=13)\n",
    "ax.set_xlabel('Месяц', size=13)\n",
    "ax.set_xticks(range(0,13))\n",
    "ax.set_yticks([i for i in range(5000000,40000000,3000000)])\n",
    "ax.set_yticklabels([i/1000000 for i in range(5000000,40000000,3000000)])\n",
    "ax.legend(loc='upper left')\n",
    "ax.grid(axis='y')\n",
    "ax.set_xlim(xmin=yrs[0], xmax=yrs[-1])\n",
    "f.tight_layout()\n",
    "plt.show()"
   ]
  },
  {
   "cell_type": "markdown",
   "metadata": {},
   "source": [
    "        Покупатели продолжают активно пользоваться дебетовыми картами, 65% всех операций составляют именно они. Следует заметить, что не смотря на общую тенденцию к увеличению оборота по картам в декабре, кредитные карты не соблюдают ее.  "
   ]
  },
  {
   "cell_type": "markdown",
   "metadata": {},
   "source": [
    "Посмотрим кто из мерчанитов приносит больше дохода для компании:"
   ]
  },
  {
   "cell_type": "code",
   "execution_count": 52,
   "metadata": {},
   "outputs": [],
   "source": [
    "mercahnsts = data19.groupby('Мерчант')['Доход от мерчанта'].sum().apply(lambda x:round(x,0)).sort_values(ascending = False)"
   ]
  },
  {
   "cell_type": "code",
   "execution_count": 53,
   "metadata": {},
   "outputs": [
    {
     "data": {
      "image/png": "[encoded data removed]",
      "text/plain": [
       "<Figure size 1080x360 with 1 Axes>"
      ]
     },
     "metadata": {
      "needs_background": "light"
     },
     "output_type": "display_data"
    }
   ],
   "source": [
    "x = [i for i in mercahnsts.index]\n",
    "y = [i for i in mercahnsts.values]\n",
    "\n",
    "f, ax = plt.subplots(figsize=(15, 5))\n",
    "sns.barplot(x=x, y=y, data=mercahnsts,ci=None)\n",
    "plt.title('Доход в разрезе мерчантов за 2019г.', size=15, pad=25)\n",
    "ax.set_xlabel('Мерчант', size=12)\n",
    "ax.set_ylabel('Доход от мерчанта, тыс.', size=12)\n",
    "ax.set_xticklabels(mercahnsts.index)\n",
    "ax.grid(axis='y')\n",
    "plt.xticks(rotation=90)\n",
    "plt.show()"
   ]
  },
  {
   "cell_type": "markdown",
   "metadata": {},
   "source": [
    "    Здесь у нас выделяется примерно 4 группы, если продолжить изучать деятельность по мерчантам, в итоге получится гистограма в соответствии с уровнем бизнеса мерчантов - крутные сети, малый бизнес и тд."
   ]
  },
  {
   "cell_type": "code",
   "execution_count": 54,
   "metadata": {},
   "outputs": [
    {
     "data": {
      "text/html": [
       "<div>\n",
       "<style scoped>\n",
       "    .dataframe tbody tr th:only-of-type {\n",
       "        vertical-align: middle;\n",
       "    }\n",
       "\n",
       "    .dataframe tbody tr th {\n",
       "        vertical-align: top;\n",
       "    }\n",
       "\n",
       "    .dataframe thead th {\n",
       "        text-align: right;\n",
       "    }\n",
       "</style>\n",
       "<table border=\"1\" class=\"dataframe\">\n",
       "  <thead>\n",
       "    <tr style=\"text-align: right;\">\n",
       "      <th></th>\n",
       "      <th>Месяц</th>\n",
       "      <th>Статус транзакци</th>\n",
       "      <th>Мерчант</th>\n",
       "      <th>Категория мерчанта</th>\n",
       "      <th>Канал</th>\n",
       "      <th>МПС</th>\n",
       "      <th>Продукт карты</th>\n",
       "      <th>Признак карты</th>\n",
       "      <th>Страна карты</th>\n",
       "      <th>Банк rus</th>\n",
       "      <th>Bank eng</th>\n",
       "      <th>Оборот</th>\n",
       "      <th>Количество транзакций</th>\n",
       "      <th>Доход от мерчанта</th>\n",
       "      <th>Расход на МПС</th>\n",
       "      <th>year</th>\n",
       "    </tr>\n",
       "  </thead>\n",
       "  <tbody>\n",
       "    <tr>\n",
       "      <th>1</th>\n",
       "      <td>2019-01-01</td>\n",
       "      <td>65</td>\n",
       "      <td>Мерчант9</td>\n",
       "      <td>Категория1</td>\n",
       "      <td>1105</td>\n",
       "      <td>MasterCard</td>\n",
       "      <td>DEBIT</td>\n",
       "      <td>0.0</td>\n",
       "      <td>643.0</td>\n",
       "      <td>Альфа-банк</td>\n",
       "      <td>JOINT STOCK COMPANY ALFA-BANK</td>\n",
       "      <td>38.382353</td>\n",
       "      <td>1.000000</td>\n",
       "      <td>0.920354</td>\n",
       "      <td>-1.053097</td>\n",
       "      <td>2019</td>\n",
       "    </tr>\n",
       "    <tr>\n",
       "      <th>2</th>\n",
       "      <td>2019-01-01</td>\n",
       "      <td>65</td>\n",
       "      <td>Мерчант8</td>\n",
       "      <td>Категория1</td>\n",
       "      <td>1100</td>\n",
       "      <td>VISA</td>\n",
       "      <td>DEBIT</td>\n",
       "      <td>0.0</td>\n",
       "      <td>643.0</td>\n",
       "      <td>NaN</td>\n",
       "      <td>PUBLIC JOINT-STOCK COMPANY BANK OTKRITIE FINAN...</td>\n",
       "      <td>50.000000</td>\n",
       "      <td>11.764706</td>\n",
       "      <td>1.203540</td>\n",
       "      <td>-1.353982</td>\n",
       "      <td>2019</td>\n",
       "    </tr>\n",
       "    <tr>\n",
       "      <th>3</th>\n",
       "      <td>2019-01-01</td>\n",
       "      <td>65</td>\n",
       "      <td>Мерчант8</td>\n",
       "      <td>Категория1</td>\n",
       "      <td>1100</td>\n",
       "      <td>VISA</td>\n",
       "      <td>DEBIT</td>\n",
       "      <td>0.0</td>\n",
       "      <td>643.0</td>\n",
       "      <td>Сбербанк России</td>\n",
       "      <td>SBERBANK OF RUSSIA</td>\n",
       "      <td>4.705882</td>\n",
       "      <td>11.764706</td>\n",
       "      <td>0.115044</td>\n",
       "      <td>-0.123894</td>\n",
       "      <td>2019</td>\n",
       "    </tr>\n",
       "    <tr>\n",
       "      <th>4</th>\n",
       "      <td>2019-01-01</td>\n",
       "      <td>65</td>\n",
       "      <td>Мерчант13</td>\n",
       "      <td>Категория1</td>\n",
       "      <td>1230</td>\n",
       "      <td>VISA</td>\n",
       "      <td>CREDIT</td>\n",
       "      <td>0.0</td>\n",
       "      <td>643.0</td>\n",
       "      <td>NaN</td>\n",
       "      <td>VTB BANK PJSC</td>\n",
       "      <td>83.864706</td>\n",
       "      <td>23.529412</td>\n",
       "      <td>0.884956</td>\n",
       "      <td>-0.061947</td>\n",
       "      <td>2019</td>\n",
       "    </tr>\n",
       "    <tr>\n",
       "      <th>5</th>\n",
       "      <td>2019-01-01</td>\n",
       "      <td>65</td>\n",
       "      <td>Мерчант8</td>\n",
       "      <td>Категория1</td>\n",
       "      <td>1368</td>\n",
       "      <td>MasterCard</td>\n",
       "      <td>DEBIT</td>\n",
       "      <td>0.0</td>\n",
       "      <td>643.0</td>\n",
       "      <td>Сбербанк России</td>\n",
       "      <td>SBERBANK OF RUSSIA</td>\n",
       "      <td>23.823529</td>\n",
       "      <td>17.647059</td>\n",
       "      <td>0.575221</td>\n",
       "      <td>-0.575221</td>\n",
       "      <td>2019</td>\n",
       "    </tr>\n",
       "  </tbody>\n",
       "</table>\n",
       "</div>"
      ],
      "text/plain": [
       "       Месяц  Статус транзакци    Мерчант Категория мерчанта  Канал  \\\n",
       "1 2019-01-01                65   Мерчант9         Категория1   1105   \n",
       "2 2019-01-01                65   Мерчант8         Категория1   1100   \n",
       "3 2019-01-01                65   Мерчант8         Категория1   1100   \n",
       "4 2019-01-01                65  Мерчант13         Категория1   1230   \n",
       "5 2019-01-01                65   Мерчант8         Категория1   1368   \n",
       "\n",
       "          МПС Продукт карты  Признак карты  Страна карты         Банк rus  \\\n",
       "1  MasterCard         DEBIT            0.0         643.0       Альфа-банк   \n",
       "2        VISA         DEBIT            0.0         643.0              NaN   \n",
       "3        VISA         DEBIT            0.0         643.0  Сбербанк России   \n",
       "4        VISA        CREDIT            0.0         643.0              NaN   \n",
       "5  MasterCard         DEBIT            0.0         643.0  Сбербанк России   \n",
       "\n",
       "                                            Bank eng     Оборот  \\\n",
       "1                      JOINT STOCK COMPANY ALFA-BANK  38.382353   \n",
       "2  PUBLIC JOINT-STOCK COMPANY BANK OTKRITIE FINAN...  50.000000   \n",
       "3                                 SBERBANK OF RUSSIA   4.705882   \n",
       "4                                      VTB BANK PJSC  83.864706   \n",
       "5                                 SBERBANK OF RUSSIA  23.823529   \n",
       "\n",
       "   Количество транзакций  Доход от мерчанта  Расход на МПС  year  \n",
       "1               1.000000           0.920354      -1.053097  2019  \n",
       "2              11.764706           1.203540      -1.353982  2019  \n",
       "3              11.764706           0.115044      -0.123894  2019  \n",
       "4              23.529412           0.884956      -0.061947  2019  \n",
       "5              17.647059           0.575221      -0.575221  2019  "
      ]
     },
     "execution_count": 54,
     "metadata": {},
     "output_type": "execute_result"
    }
   ],
   "source": [
    "data19.head()"
   ]
  },
  {
   "cell_type": "markdown",
   "metadata": {},
   "source": [
    "Теперь перейдем к самому интересному - чистой прибыли."
   ]
  },
  {
   "cell_type": "code",
   "execution_count": 55,
   "metadata": {},
   "outputs": [
    {
     "name": "stderr",
     "output_type": "stream",
     "text": [
      "E:\\ProgramData\\Anaconda3\\lib\\site-packages\\ipykernel_launcher.py:1: SettingWithCopyWarning: \n",
      "A value is trying to be set on a copy of a slice from a DataFrame.\n",
      "Try using .loc[row_indexer,col_indexer] = value instead\n",
      "\n",
      "See the caveats in the documentation: https://pandas.pydata.org/pandas-docs/stable/user_guide/indexing.html#returning-a-view-versus-a-copy\n",
      "  \"\"\"Entry point for launching an IPython kernel.\n"
     ]
    }
   ],
   "source": [
    "data19['nr'] = data19['Доход от мерчанта'] - data19['Расход на МПС']"
   ]
  },
  {
   "cell_type": "code",
   "execution_count": 56,
   "metadata": {},
   "outputs": [
    {
     "data": {
      "text/plain": [
       "2023532.849557523"
      ]
     },
     "execution_count": 56,
     "metadata": {},
     "output_type": "execute_result"
    }
   ],
   "source": [
    "data19['Доход от мерчанта'].sum()"
   ]
  },
  {
   "cell_type": "code",
   "execution_count": 57,
   "metadata": {},
   "outputs": [
    {
     "data": {
      "text/plain": [
       "-1130800.6902654872"
      ]
     },
     "execution_count": 57,
     "metadata": {},
     "output_type": "execute_result"
    }
   ],
   "source": [
    "data19['Расход на МПС'].sum()"
   ]
  },
  {
   "cell_type": "code",
   "execution_count": 58,
   "metadata": {},
   "outputs": [
    {
     "data": {
      "text/plain": [
       "3154333.539823008"
      ]
     },
     "execution_count": 58,
     "metadata": {},
     "output_type": "execute_result"
    }
   ],
   "source": [
    "data19.nr.sum()"
   ]
  },
  {
   "cell_type": "code",
   "execution_count": 59,
   "metadata": {},
   "outputs": [
    {
     "data": {
      "text/plain": [
       "Месяц\n",
       "2019-01-01    202124.88\n",
       "2019-02-01    182367.09\n",
       "2019-03-01    235632.12\n",
       "2019-04-01    227752.57\n",
       "2019-05-01    234415.97\n",
       "2019-06-01    349476.79\n",
       "2019-07-01    339543.12\n",
       "2019-08-01    414275.42\n",
       "2019-09-01    292006.05\n",
       "2019-10-01    222852.85\n",
       "2019-11-01    196973.51\n",
       "2019-12-01    256913.18\n",
       "Name: nr, dtype: float64"
      ]
     },
     "execution_count": 59,
     "metadata": {},
     "output_type": "execute_result"
    }
   ],
   "source": [
    "nr_year = data19.groupby('Месяц')['nr'].sum().apply(lambda x:round(x,2))\n",
    "nr_year"
   ]
  },
  {
   "cell_type": "code",
   "execution_count": 60,
   "metadata": {},
   "outputs": [
    {
     "data": {
      "image/png": "[encoded data removed]",
      "text/plain": [
       "<Figure size 1080x360 with 1 Axes>"
      ]
     },
     "metadata": {
      "needs_background": "light"
     },
     "output_type": "display_data"
    }
   ],
   "source": [
    "x = [i.month for i in nr_year.index.to_pydatetime()]\n",
    "y = [i for i in nr_year.values]\n",
    "f, ax = plt.subplots(figsize=[15,5])\n",
    "plt.plot(x, y, linewidth=2)\n",
    "plt.title('Динамика чистой прибыли за 2019 год', size=15, pad=25)\n",
    "plt.xlabel('Месяц', size=15)\n",
    "plt.ylabel('Чистая прибыль', size=15)\n",
    "plt.grid(axis='y')\n",
    "ax.set_xticks(range(1,13))\n",
    "plt.show()"
   ]
  },
  {
   "cell_type": "markdown",
   "metadata": {},
   "source": [
    "Теперь обратимся к категориям мерчантов и посмотрим на выручку, которые они приносят:"
   ]
  },
  {
   "cell_type": "code",
   "execution_count": 61,
   "metadata": {},
   "outputs": [
    {
     "data": {
      "text/plain": [
       "Месяц       Категория мерчанта\n",
       "2019-01-01  Категория1            202124.65\n",
       "            Категория2                 0.23\n",
       "2019-02-01  Категория1            181178.07\n",
       "            Категория2                 0.07\n",
       "            Категория3              1188.95\n",
       "2019-03-01  Категория1            221430.94\n",
       "            Категория2                 0.68\n",
       "            Категория3             14200.50\n",
       "2019-04-01  Категория1            211148.72\n",
       "            Категория2               243.55\n",
       "            Категория3             16360.30\n",
       "2019-05-01  Категория1            207161.21\n",
       "            Категория2             12958.12\n",
       "            Категория3             14296.64\n",
       "2019-06-01  Категория1            259750.85\n",
       "            Категория2             78239.26\n",
       "            Категория3             11486.68\n",
       "2019-07-01  Категория1            231133.62\n",
       "            Категория2             77947.36\n",
       "            Категория3             30462.13\n",
       "2019-08-01  Категория1            269939.00\n",
       "            Категория2             32457.04\n",
       "            Категория3            111879.39\n",
       "2019-09-01  Категория1            242451.15\n",
       "            Категория2              7760.80\n",
       "            Категория3             41794.11\n",
       "2019-10-01  Категория1            140770.27\n",
       "            Категория2               592.67\n",
       "            Категория3             81489.90\n",
       "2019-11-01  Категория1            120650.40\n",
       "            Категория2               158.91\n",
       "            Категория3             76164.20\n",
       "2019-12-01  Категория1            158531.35\n",
       "            Категория2                97.12\n",
       "            Категория3             98284.71\n",
       "Name: nr, dtype: float64"
      ]
     },
     "execution_count": 61,
     "metadata": {},
     "output_type": "execute_result"
    }
   ],
   "source": [
    "nr_by_merch = data19.groupby(['Месяц','Категория мерчанта'])['nr'].sum().apply(lambda x:round(x,2))\n",
    "nr_by_merch"
   ]
  },
  {
   "cell_type": "code",
   "execution_count": 62,
   "metadata": {},
   "outputs": [
    {
     "data": {
      "text/plain": [
       "3154333.5500000003"
      ]
     },
     "execution_count": 62,
     "metadata": {},
     "output_type": "execute_result"
    }
   ],
   "source": [
    "nr_by_merch.sum()"
   ]
  },
  {
   "cell_type": "code",
   "execution_count": 63,
   "metadata": {},
   "outputs": [
    {
     "data": {
      "text/plain": [
       "Категория мерчанта\n",
       "Категория1    2446270.23\n",
       "Категория2     210455.81\n",
       "Категория3     497607.50\n",
       "Name: nr, dtype: float64"
      ]
     },
     "execution_count": 63,
     "metadata": {},
     "output_type": "execute_result"
    }
   ],
   "source": [
    "merch_cat = data19.groupby(['Категория мерчанта'])['nr'].sum().apply(lambda x:round(x,2))\n",
    "merch_cat"
   ]
  },
  {
   "cell_type": "code",
   "execution_count": 64,
   "metadata": {},
   "outputs": [
    {
     "data": {
      "text/plain": [
       "Категория мерчанта\n",
       "Категория1    95711723.55\n",
       "Категория2    66087209.75\n",
       "Категория3     9511762.91\n",
       "Name: Оборот, dtype: float64"
      ]
     },
     "execution_count": 64,
     "metadata": {},
     "output_type": "execute_result"
    }
   ],
   "source": [
    "merch_share = data19.groupby(['Категория мерчанта'])['Оборот'].sum().apply(lambda x:round(x,2))\n",
    "merch_share"
   ]
  },
  {
   "cell_type": "code",
   "execution_count": 65,
   "metadata": {},
   "outputs": [
    {
     "data": {
      "text/plain": [
       "Категория мерчанта\n",
       "Категория1    16266718.65\n",
       "Категория2     4866705.88\n",
       "Категория3     6555894.12\n",
       "Name: Количество транзакций, dtype: float64"
      ]
     },
     "execution_count": 65,
     "metadata": {},
     "output_type": "execute_result"
    }
   ],
   "source": [
    "merch_value = data19.groupby(['Категория мерчанта'])['Количество транзакций'].sum().apply(lambda x:round(x,2))\n",
    "merch_value"
   ]
  },
  {
   "cell_type": "code",
   "execution_count": 66,
   "metadata": {},
   "outputs": [
    {
     "data": {
      "text/plain": [
       "Категория мерчанта\n",
       "Категория1    1766449.33\n",
       "Категория2      19117.74\n",
       "Категория3     237965.78\n",
       "Name: Доход от мерчанта, dtype: float64"
      ]
     },
     "execution_count": 66,
     "metadata": {},
     "output_type": "execute_result"
    }
   ],
   "source": [
    "merch_rev = data19.groupby(['Категория мерчанта'])['Доход от мерчанта'].sum().apply(lambda x:round(x,2))\n",
    "merch_rev"
   ]
  },
  {
   "cell_type": "markdown",
   "metadata": {},
   "source": [
    "1. Увеличен как минимум на дельту, которая компенсирует снижение дохода от мерчантов.\n",
    "2. Судя по полученным цифрам, необходимо обратить особое внимание 3й группе мерчантов, т.к сформированная в феврале группа показывает уверенный рост показателей кол-ва транзакций и оборота, соответвстенно развитие категории с помощью маркетинговых инструментов должно сказаться на увеличении чистой прибыли за счет увеличение оборота по картам.\n",
    "3. 497607.50"
   ]
  }
 ],
 "metadata": {
  "kernelspec": {
   "display_name": "Python 3",
   "language": "python",
   "name": "python3"
  },
  "language_info": {
   "codemirror_mode": {
    "name": "ipython",
    "version": 3
   },
   "file_extension": ".py",
   "mimetype": "text/x-python",
   "name": "python",
   "nbconvert_exporter": "python",
   "pygments_lexer": "ipython3",
   "version": "3.7.7"
  }
 },
 "nbformat": 4,
 "nbformat_minor": 4
}
